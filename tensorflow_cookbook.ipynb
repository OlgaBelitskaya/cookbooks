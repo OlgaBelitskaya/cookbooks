{
 "cells": [
  {
   "cell_type": "markdown",
   "metadata": {},
   "source": [
    "# &#x1F4D1; &nbsp; TensorFlow  Cookbook \n",
    "## 0. Code Library and Links"
   ]
  },
  {
   "cell_type": "code",
   "execution_count": 1,
   "metadata": {
    "collapsed": false
   },
   "outputs": [
    {
     "data": {
      "text/html": [
       "<style>\n",
       "@import url('https://fonts.googleapis.com/css?family=Orbitron');\n",
       "body {background-color: gainsboro;} \n",
       "a {color: darkgreen; font-family: 'Orbitron';} \n",
       "h1 {color: slategray; font-family: 'Orbitron'; text-shadow: 4px 4px 4px #aaa;} \n",
       "h2, h3 {color: darkslategray; font-family: 'Orbitron'; text-shadow: 4px 4px 4px #aaa;}\n",
       "</style>"
      ],
      "text/plain": [
       "<IPython.core.display.HTML object>"
      ]
     },
     "metadata": {},
     "output_type": "display_data"
    }
   ],
   "source": [
    "%%html\n",
    "<style>\n",
    "@import url('https://fonts.googleapis.com/css?family=Orbitron');\n",
    "body {background-color: gainsboro;} \n",
    "a {color: darkgreen; font-family: 'Orbitron';} \n",
    "h1 {color: slategray; font-family: 'Orbitron'; text-shadow: 4px 4px 4px #aaa;} \n",
    "h2, h3 {color: darkslategray; font-family: 'Orbitron'; text-shadow: 4px 4px 4px #aaa;}\n",
    "</style>"
   ]
  },
  {
   "cell_type": "code",
   "execution_count": 39,
   "metadata": {
    "collapsed": false
   },
   "outputs": [],
   "source": [
    "import numpy as np \n",
    "import pandas as pd\n",
    "from collections import namedtuple\n",
    "\n",
    "import cv2\n",
    "from PIL import ImageFile\n",
    "from tqdm import tqdm\n",
    "from keras.preprocessing import image as keras_image\n",
    "from keras.utils import to_categorical\n",
    "from sklearn.model_selection import train_test_split\n",
    "\n",
    "from matplotlib import rcParams\n",
    "import matplotlib.pyplot as plt\n",
    "from matplotlib import cm\n",
    "\n",
    "%matplotlib inline\n",
    "%config InlineBackend.figure_format = 'retina'"
   ]
  },
  {
   "cell_type": "code",
   "execution_count": 3,
   "metadata": {
    "collapsed": false
   },
   "outputs": [],
   "source": [
    "import tensorflow as tf\n",
    "import tflearn"
   ]
  },
  {
   "cell_type": "code",
   "execution_count": 19,
   "metadata": {
    "collapsed": true
   },
   "outputs": [],
   "source": [
    "import tflearn.datasets.mnist as mnist\n",
    "from tflearn.data_utils import build_hdf5_image_dataset"
   ]
  },
  {
   "cell_type": "markdown",
   "metadata": {},
   "source": [
    "## 1. Data Sets"
   ]
  },
  {
   "cell_type": "code",
   "execution_count": 44,
   "metadata": {
    "collapsed": false
   },
   "outputs": [
    {
     "name": "stdout",
     "output_type": "stream",
     "text": [
      "Extracting mnist/train-images-idx3-ubyte.gz\n",
      "Extracting mnist/train-labels-idx1-ubyte.gz\n",
      "Extracting mnist/t10k-images-idx3-ubyte.gz\n",
      "Extracting mnist/t10k-labels-idx1-ubyte.gz\n"
     ]
    }
   ],
   "source": [
    "# MNIST\n",
    "X_train, y_train, X_test, y_test = mnist.load_data(one_hot=True)"
   ]
  },
  {
   "cell_type": "code",
   "execution_count": 45,
   "metadata": {
    "collapsed": false
   },
   "outputs": [
    {
     "data": {
      "text/plain": [
       "[(55000, 784), (55000, 10), (10000, 784), (10000, 10)]"
      ]
     },
     "execution_count": 45,
     "metadata": {},
     "output_type": "execute_result"
    }
   ],
   "source": [
    "[X_train.shape, y_train.shape, X_test.shape, y_test.shape]"
   ]
  },
  {
   "cell_type": "code",
   "execution_count": 44,
   "metadata": {
    "collapsed": false
   },
   "outputs": [
    {
     "data": {
      "image/png": "[encoded data removed]",
      "text/plain": [
       "<matplotlib.figure.Figure at 0x11b0c0f28>"
      ]
     },
     "metadata": {
      "image/png": {
       "height": 263,
       "width": 253
      }
     },
     "output_type": "display_data"
    }
   ],
   "source": [
    "def display_digit(index):\n",
    "    label = y_train[index].argmax(axis=0)\n",
    "    image = X_train[index].reshape(28,28)\n",
    "    plt.title('Train Datapoint: index - %d,  label - %d' % (index, label))\n",
    "    plt.imshow(image, cmap=cm.bone)\n",
    "\n",
    "display_digit(1)"
   ]
  },
  {
   "cell_type": "code",
   "execution_count": 47,
   "metadata": {
    "collapsed": false
   },
   "outputs": [],
   "source": [
    "# Anna Karenina Text\n",
    "with open('anna.txt', 'r') as f:\n",
    "    text=f.read()\n",
    "vocabulary = set(text)\n",
    "int_to_vocab = dict(enumerate(vocabulary))\n",
    "vocab_to_int = dict((v,k) for k,v in int_to_vocab.items())\n",
    "characters = np.array([vocab_to_int[c] for c in text], dtype=np.int32)"
   ]
  },
  {
   "cell_type": "code",
   "execution_count": 48,
   "metadata": {
    "collapsed": false
   },
   "outputs": [
    {
     "data": {
      "text/plain": [
       "'Chapter 1\\n\\n\\nHappy families are all alike; every unhappy family is unhappy in its own\\nway.\\n\\nEverything was in '"
      ]
     },
     "execution_count": 48,
     "metadata": {},
     "output_type": "execute_result"
    }
   ],
   "source": [
    "text[:109]"
   ]
  },
  {
   "cell_type": "code",
   "execution_count": 49,
   "metadata": {
    "collapsed": false
   },
   "outputs": [
    {
     "data": {
      "text/plain": [
       "array([ 7, 61, 67, 20, 19, 81, 21, 36, 65, 30, 30, 30, 48, 67, 20, 20, 63,\n",
       "       36, 70, 67, 10, 37, 17, 37, 81, 72, 36, 67, 21, 81, 36, 67, 17, 17,\n",
       "       36, 67, 17, 37, 31, 81, 56, 36, 81, 46, 81, 21, 63, 36, 76,  1, 61,\n",
       "       67, 20, 20, 63, 36, 70, 67, 10, 37, 17, 63, 36, 37, 72, 36, 76,  1,\n",
       "       61, 67, 20, 20, 63, 36, 37,  1, 36, 37, 19, 72, 36,  8, 22,  1, 30,\n",
       "       22, 67, 63, 44, 30, 30, 77, 46, 81, 21, 63, 19, 61, 37,  1,  3, 36,\n",
       "       22, 67, 72, 36, 37,  1, 36], dtype=int32)"
      ]
     },
     "execution_count": 49,
     "metadata": {},
     "output_type": "execute_result"
    }
   ],
   "source": [
    "characters[:109]"
   ]
  },
  {
   "cell_type": "code",
   "execution_count": 67,
   "metadata": {
    "collapsed": false
   },
   "outputs": [],
   "source": [
    "batch_size, num_steps, split_fraction = 100, 100, 0.9\n",
    "\n",
    "slice_size = batch_size * num_steps\n",
    "n_batches = int(len(characters) / slice_size)\n",
    "# targets = features,  shifted one character over\n",
    "X2 = characters[: n_batches*slice_size]\n",
    "y2 = characters[1: n_batches*slice_size + 1]\n",
    "\n",
    "X2 = np.stack(np.split(X2, batch_size))\n",
    "y2 = np.stack(np.split(y2, batch_size))\n",
    "\n",
    "split_id = int(n_batches*split_fraction)\n",
    "X_train2, y_train2= X2[:, :split_id*num_steps], y2[:, :split_id*num_steps]\n",
    "X_test2, y_test2 = X2[:, split_id*num_steps:], y2[:, split_id*num_steps:]    "
   ]
  },
  {
   "cell_type": "code",
   "execution_count": 68,
   "metadata": {
    "collapsed": false
   },
   "outputs": [
    {
     "data": {
      "text/plain": [
       "[(100, 17800), (100, 17800), (100, 2000), (100, 2000)]"
      ]
     },
     "execution_count": 68,
     "metadata": {},
     "output_type": "execute_result"
    }
   ],
   "source": [
    "[X_train2.shape, y_train2.shape, X_test2.shape, y_test2.shape]"
   ]
  },
  {
   "cell_type": "code",
   "execution_count": 34,
   "metadata": {
    "collapsed": false
   },
   "outputs": [
    {
     "name": "stderr",
     "output_type": "stream",
     "text": [
      "\n",
      "  0%|          | 0/210 [00:00<?, ?it/s]\u001b[A\n",
      "  1%|          | 2/210 [00:00<00:10, 19.25it/s]\u001b[A\n",
      "  3%|▎         | 6/210 [00:00<00:09, 21.25it/s]\u001b[A\n",
      "  4%|▍         | 9/210 [00:00<00:09, 21.70it/s]\u001b[A\n",
      "  5%|▌         | 11/210 [00:00<00:10, 18.99it/s]\u001b[A\n",
      "  8%|▊         | 16/210 [00:00<00:08, 23.24it/s]\u001b[A\n",
      "  9%|▉         | 19/210 [00:00<00:08, 22.10it/s]\u001b[A\n",
      " 25%|██▍       | 52/210 [00:00<00:05, 30.68it/s]\u001b[A\n",
      " 41%|████      | 86/210 [00:00<00:02, 42.15it/s]\u001b[A\n",
      " 57%|█████▋    | 120/210 [00:01<00:01, 57.12it/s]\u001b[A\n",
      " 73%|███████▎  | 154/210 [00:01<00:00, 76.04it/s]\u001b[A\n",
      " 91%|█████████ | 191/210 [00:01<00:00, 99.67it/s]\u001b[A\n",
      "100%|██████████| 210/210 [00:01<00:00, 156.49it/s]\u001b[A"
     ]
    }
   ],
   "source": [
    "# 128x128 color images\n",
    "flowers = pd.read_csv(\"flower_images/flower_labels.csv\")\n",
    "flower_files = flowers['file']\n",
    "flower_targets = flowers['label'].as_matrix()\n",
    "\n",
    "def path_to_tensor(img_path):\n",
    "    img = keras_image.load_img(\"flower_images/\"+img_path, target_size=(128, 128))\n",
    "    x = keras_image.img_to_array(img)\n",
    "    return np.expand_dims(x, axis=0)\n",
    "\n",
    "def paths_to_tensor(img_paths):\n",
    "    list_of_tensors = [path_to_tensor(img_path) for img_path in tqdm(img_paths)]\n",
    "    return np.vstack(list_of_tensors)\n",
    "\n",
    "ImageFile.LOAD_TRUNCATED_IMAGES = True                 \n",
    "flower_tensors = paths_to_tensor(flower_files);"
   ]
  },
  {
   "cell_type": "code",
   "execution_count": 37,
   "metadata": {
    "collapsed": false
   },
   "outputs": [
    {
     "name": "stdout",
     "output_type": "stream",
     "text": [
      "Label:  0\n"
     ]
    },
    {
     "data": {
      "image/png": "[encoded data removed]",
      "text/plain": [
       "<matplotlib.figure.Figure at 0x116af10f0>"
      ]
     },
     "metadata": {
      "image/png": {
       "height": 251,
       "width": 259
      }
     },
     "output_type": "display_data"
    }
   ],
   "source": [
    "print('Label: ', flower_targets[1])\n",
    "flower_image = cv2.imread('flower_images/'+flower_files[1])\n",
    "rgb_flower_image = cv2.cvtColor(flower_image, cv2.COLOR_BGR2RGB)\n",
    "plt.imshow(rgb_flower_image);"
   ]
  },
  {
   "cell_type": "code",
   "execution_count": 42,
   "metadata": {
    "collapsed": false
   },
   "outputs": [
    {
     "data": {
      "text/plain": [
       "[(189, 128, 128, 3), (189, 10), (21, 128, 128, 3), (21, 10)]"
      ]
     },
     "execution_count": 42,
     "metadata": {},
     "output_type": "execute_result"
    }
   ],
   "source": [
    "X_train3, X_test3, y_train3, y_test3 = train_test_split(flower_tensors, flower_targets, \n",
    "                                                        test_size = 0.1, random_state = 1)\n",
    "X_train3 = X_train3.astype('float32')/255\n",
    "X_test3 = X_test3.astype('float32')/255\n",
    "\n",
    "c_y_train3 = to_categorical(y_train3, 10)\n",
    "c_y_test3 = to_categorical(y_test3, 10)\n",
    "[X_train3.shape, c_y_train3.shape, X_test3.shape, c_y_test3.shape]"
   ]
  },
  {
   "cell_type": "markdown",
   "metadata": {},
   "source": [
    "## 2. Basics"
   ]
  },
  {
   "cell_type": "code",
   "execution_count": null,
   "metadata": {
    "collapsed": true
   },
   "outputs": [],
   "source": []
  },
  {
   "cell_type": "code",
   "execution_count": null,
   "metadata": {
    "collapsed": true
   },
   "outputs": [],
   "source": []
  },
  {
   "cell_type": "markdown",
   "metadata": {},
   "source": [
    "## 3. Neural Networks; TensorFlow\n",
    "### MLP"
   ]
  },
  {
   "cell_type": "code",
   "execution_count": null,
   "metadata": {
    "collapsed": true
   },
   "outputs": [],
   "source": []
  },
  {
   "cell_type": "markdown",
   "metadata": {},
   "source": [
    "### CNN"
   ]
  },
  {
   "cell_type": "code",
   "execution_count": null,
   "metadata": {
    "collapsed": true
   },
   "outputs": [],
   "source": []
  },
  {
   "cell_type": "markdown",
   "metadata": {},
   "source": [
    "### RNN "
   ]
  },
  {
   "cell_type": "code",
   "execution_count": null,
   "metadata": {
    "collapsed": true
   },
   "outputs": [],
   "source": []
  },
  {
   "cell_type": "markdown",
   "metadata": {},
   "source": [
    "## 4. Neural Networks; Tflearn\n",
    "### MLP"
   ]
  },
  {
   "cell_type": "code",
   "execution_count": 67,
   "metadata": {
    "collapsed": true
   },
   "outputs": [],
   "source": [
    "def mlp_mc_model():\n",
    "    tf.reset_default_graph()\n",
    "    \n",
    "    nn = tflearn.input_data([None, 784])\n",
    "    \n",
    "    nn = tflearn.fully_connected(nn, 784, activation='ReLU')    \n",
    "    nn = tflearn.fully_connected(nn, 392, activation='ReLU')\n",
    "    \n",
    "    nn = tflearn.fully_connected(nn, 10, activation='Softmax')\n",
    "    \n",
    "    acc = tflearn.metrics.Accuracy()\n",
    "    nn = tflearn.regression(nn, optimizer='adam', learning_rate=0.01, \n",
    "                            loss='categorical_crossentropy', metric=acc)\n",
    "    model = tflearn.DNN(nn)\n",
    "    return model\n",
    "\n",
    "mlp_mc_model = mlp_mc_model()"
   ]
  },
  {
   "cell_type": "code",
   "execution_count": 68,
   "metadata": {
    "collapsed": false
   },
   "outputs": [
    {
     "name": "stdout",
     "output_type": "stream",
     "text": [
      "Training Step: 11609  | total loss: \u001b[1m\u001b[32m1.64038\u001b[0m\u001b[0m | time: 12.453s\n",
      "| Adam | epoch: 030 | loss: 1.64038 - acc: 0.9167 -- iter: 49408/49500\n",
      "Training Step: 11610  | total loss: \u001b[1m\u001b[32m1.47882\u001b[0m\u001b[0m | time: 13.489s\n",
      "| Adam | epoch: 030 | loss: 1.47882 - acc: 0.9242 | val_loss: 0.20089 - val_acc: 0.9687 -- iter: 49500/49500\n",
      "--\n"
     ]
    }
   ],
   "source": [
    "mlp_mc_model.fit(X_train, y_train, validation_set=0.1, show_metric=True, batch_size=128, n_epoch=30)"
   ]
  },
  {
   "cell_type": "code",
   "execution_count": 69,
   "metadata": {
    "collapsed": false
   },
   "outputs": [
    {
     "name": "stdout",
     "output_type": "stream",
     "text": [
      "Test Accuracy: 95.53 %\n"
     ]
    }
   ],
   "source": [
    "y_test_mlp = np.array(mlp_model.predict(X_test)).argmax(axis=1)\n",
    "y_test_num = y_test.argmax(axis=1)\n",
    "\n",
    "test_accuracy_mlp = np.mean(y_test_mlp == y_test_num, axis=0)\n",
    "\n",
    "print(\"Test Accuracy: {} %\".format(test_accuracy_mlp*100))"
   ]
  },
  {
   "cell_type": "markdown",
   "metadata": {},
   "source": [
    "### CNN"
   ]
  },
  {
   "cell_type": "code",
   "execution_count": null,
   "metadata": {
    "collapsed": true
   },
   "outputs": [],
   "source": []
  },
  {
   "cell_type": "markdown",
   "metadata": {},
   "source": [
    "### RNN"
   ]
  },
  {
   "cell_type": "code",
   "execution_count": null,
   "metadata": {
    "collapsed": true
   },
   "outputs": [],
   "source": []
  }
 ],
 "metadata": {
  "hide_input": false,
  "kernelspec": {
   "display_name": "Python 3",
   "language": "python",
   "name": "python3"
  },
  "language_info": {
   "codemirror_mode": {
    "name": "ipython",
    "version": 3
   },
   "file_extension": ".py",
   "mimetype": "text/x-python",
   "name": "python",
   "nbconvert_exporter": "python",
   "pygments_lexer": "ipython3",
   "version": "3.6.1"
  },
  "latex_envs": {
   "bibliofile": "biblio.bib",
   "cite_by": "apalike",
   "current_citInitial": 1,
   "eqLabelWithNumbers": true,
   "eqNumInitial": 0
  }
 },
 "nbformat": 4,
 "nbformat_minor": 2
}
