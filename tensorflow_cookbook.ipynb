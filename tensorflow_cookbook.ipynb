{
 "cells": [
  {
   "cell_type": "markdown",
   "metadata": {},
   "source": [
    "# &#x1F4D1; &nbsp; TensorFlow  Cookbook \n",
    "## 0. Code Library and Links\n"
   ]
  },
  {
   "cell_type": "code",
   "execution_count": 1,
   "metadata": {
    "collapsed": false
   },
   "outputs": [
    {
     "data": {
      "text/html": [
       "<style>\n",
       "@import url('https://fonts.googleapis.com/css?family=Orbitron');\n",
       "body {background-color: gainsboro;} \n",
       "a {color: darkgreen; font-family: 'Orbitron';} \n",
       "h1 {color: slategray; font-family: 'Orbitron'; text-shadow: 4px 4px 4px #aaa;} \n",
       "h2, h3 {color: darkslategray; font-family: 'Orbitron'; text-shadow: 4px 4px 4px #aaa;}\n",
       "</style>"
      ],
      "text/plain": [
       "<IPython.core.display.HTML object>"
      ]
     },
     "metadata": {},
     "output_type": "display_data"
    }
   ],
   "source": [
    "%%html\n",
    "<style>\n",
    "@import url('https://fonts.googleapis.com/css?family=Orbitron');\n",
    "body {background-color: gainsboro;} \n",
    "a {color: darkgreen; font-family: 'Orbitron';} \n",
    "h1 {color: slategray; font-family: 'Orbitron'; text-shadow: 4px 4px 4px #aaa;} \n",
    "h2, h3 {color: darkslategray; font-family: 'Orbitron'; text-shadow: 4px 4px 4px #aaa;}\n",
    "</style>"
   ]
  },
  {
   "cell_type": "code",
   "execution_count": 2,
   "metadata": {
    "collapsed": false
   },
   "outputs": [
    {
     "name": "stderr",
     "output_type": "stream",
     "text": [
      "Using TensorFlow backend.\n"
     ]
    }
   ],
   "source": [
    "import numpy as np \n",
    "import pandas as pd\n",
    "from scipy import misc\n",
    "from collections import namedtuple\n",
    "\n",
    "import cv2\n",
    "from PIL import ImageFile\n",
    "from tqdm import tqdm\n",
    "from keras.preprocessing import image as keras_image\n",
    "from keras.utils import to_categorical\n",
    "from sklearn.model_selection import train_test_split\n",
    "\n",
    "from matplotlib import rcParams\n",
    "import matplotlib.pyplot as plt\n",
    "import matplotlib.image as plt_image\n",
    "from matplotlib import cm\n",
    "\n",
    "%matplotlib inline\n",
    "%config InlineBackend.figure_format = 'retina'"
   ]
  },
  {
   "cell_type": "code",
   "execution_count": 3,
   "metadata": {
    "collapsed": false
   },
   "outputs": [],
   "source": [
    "import tensorflow as tf\n",
    "import tflearn"
   ]
  },
  {
   "cell_type": "code",
   "execution_count": 4,
   "metadata": {
    "collapsed": true
   },
   "outputs": [],
   "source": [
    "import tflearn.datasets.mnist as mnist\n",
    "from tflearn.data_utils import build_hdf5_image_dataset"
   ]
  },
  {
   "cell_type": "markdown",
   "metadata": {},
   "source": [
    "## 1. Data Sets"
   ]
  },
  {
   "cell_type": "code",
   "execution_count": 5,
   "metadata": {
    "collapsed": false
   },
   "outputs": [
    {
     "name": "stdout",
     "output_type": "stream",
     "text": [
      "Extracting mnist/train-images-idx3-ubyte.gz\n",
      "Extracting mnist/train-labels-idx1-ubyte.gz\n",
      "Extracting mnist/t10k-images-idx3-ubyte.gz\n",
      "Extracting mnist/t10k-labels-idx1-ubyte.gz\n"
     ]
    }
   ],
   "source": [
    "# MNIST\n",
    "X_train, y_train, X_test, y_test = mnist.load_data(one_hot=True)"
   ]
  },
  {
   "cell_type": "code",
   "execution_count": 6,
   "metadata": {
    "collapsed": false
   },
   "outputs": [
    {
     "data": {
      "text/plain": [
       "[(55000, 784), (55000, 10), (10000, 784), (10000, 10)]"
      ]
     },
     "execution_count": 6,
     "metadata": {},
     "output_type": "execute_result"
    }
   ],
   "source": [
    "[X_train.shape, y_train.shape, X_test.shape, y_test.shape]"
   ]
  },
  {
   "cell_type": "code",
   "execution_count": 7,
   "metadata": {
    "collapsed": false
   },
   "outputs": [
    {
     "data": {
      "image/png": "[encoded data removed]",
      "text/plain": [
       "<matplotlib.figure.Figure at 0x1198d3978>"
      ]
     },
     "metadata": {
      "image/png": {
       "height": 263,
       "width": 253
      }
     },
     "output_type": "display_data"
    }
   ],
   "source": [
    "def display_digit(index):\n",
    "    label = y_train[index].argmax(axis=0)\n",
    "    image = X_train[index].reshape(28,28)\n",
    "    plt.title('Train Datapoint: index - %d,  label - %d' % (index, label))\n",
    "    plt.imshow(image, cmap=cm.bone)\n",
    "\n",
    "display_digit(1)"
   ]
  },
  {
   "cell_type": "code",
   "execution_count": 8,
   "metadata": {
    "collapsed": false
   },
   "outputs": [],
   "source": [
    "# Anna Karenina Text\n",
    "with open('anna.txt', 'r') as f:\n",
    "    text=f.read()\n",
    "vocabulary = set(text)\n",
    "int_to_vocab = dict(enumerate(vocabulary))\n",
    "vocab_to_int = dict((v,k) for k,v in int_to_vocab.items())\n",
    "characters = np.array([vocab_to_int[c] for c in text], dtype=np.int32)"
   ]
  },
  {
   "cell_type": "code",
   "execution_count": 9,
   "metadata": {
    "collapsed": false
   },
   "outputs": [
    {
     "data": {
      "text/plain": [
       "'Chapter 1\\n\\n\\nHappy families are all alike; every unhappy family is unhappy in its own\\nway.\\n\\nEverything was in '"
      ]
     },
     "execution_count": 9,
     "metadata": {},
     "output_type": "execute_result"
    }
   ],
   "source": [
    "text[:109]"
   ]
  },
  {
   "cell_type": "code",
   "execution_count": 10,
   "metadata": {
    "collapsed": false
   },
   "outputs": [
    {
     "data": {
      "text/plain": [
       "array([62, 12, 33, 82, 60, 14, 44, 47, 29, 58, 58, 58,  7, 33, 82, 82,  8,\n",
       "       47, 36, 33, 64, 24,  9, 24, 14, 48, 47, 33, 44, 14, 47, 33,  9,  9,\n",
       "       47, 33,  9, 24, 35, 14, 54, 47, 14, 70, 14, 44,  8, 47, 25, 46, 12,\n",
       "       33, 82, 82,  8, 47, 36, 33, 64, 24,  9,  8, 47, 24, 48, 47, 25, 46,\n",
       "       12, 33, 82, 82,  8, 47, 24, 46, 47, 24, 60, 48, 47, 74, 57, 46, 58,\n",
       "       57, 33,  8, 72, 58, 58, 71, 70, 14, 44,  8, 60, 12, 24, 46, 10, 47,\n",
       "       57, 33, 48, 47, 24, 46, 47], dtype=int32)"
      ]
     },
     "execution_count": 10,
     "metadata": {},
     "output_type": "execute_result"
    }
   ],
   "source": [
    "characters[:109]"
   ]
  },
  {
   "cell_type": "code",
   "execution_count": 11,
   "metadata": {
    "collapsed": false
   },
   "outputs": [],
   "source": [
    "batch_size, num_steps, split_fraction = 100, 100, 0.9\n",
    "\n",
    "slice_size = batch_size * num_steps\n",
    "n_batches = int(len(characters) / slice_size)\n",
    "# targets = features, shifted one character over\n",
    "X2 = characters[: n_batches*slice_size]\n",
    "y2 = characters[1: n_batches*slice_size + 1]\n",
    "\n",
    "X2 = np.stack(np.split(X2, batch_size))\n",
    "y2 = np.stack(np.split(y2, batch_size))\n",
    "\n",
    "split_id = int(n_batches*split_fraction)\n",
    "X_train2, y_train2= X2[:, :split_id*num_steps], y2[:, :split_id*num_steps]\n",
    "X_test2, y_test2 = X2[:, split_id*num_steps:], y2[:, split_id*num_steps:]    "
   ]
  },
  {
   "cell_type": "code",
   "execution_count": 12,
   "metadata": {
    "collapsed": false
   },
   "outputs": [
    {
     "data": {
      "text/plain": [
       "[(100, 17800), (100, 17800), (100, 2000), (100, 2000)]"
      ]
     },
     "execution_count": 12,
     "metadata": {},
     "output_type": "execute_result"
    }
   ],
   "source": [
    "[X_train2.shape, y_train2.shape, X_test2.shape, y_test2.shape]"
   ]
  },
  {
   "cell_type": "code",
   "execution_count": 13,
   "metadata": {
    "collapsed": false
   },
   "outputs": [
    {
     "name": "stderr",
     "output_type": "stream",
     "text": [
      "100%|██████████| 210/210 [00:06<00:00, 49.33it/s]\n"
     ]
    }
   ],
   "source": [
    "# 128x128 color images\n",
    "flowers = pd.read_csv(\"flower_images/flower_labels.csv\")\n",
    "flower_files = flowers['file']\n",
    "flower_targets = flowers['label'].as_matrix()\n",
    "\n",
    "def path_to_tensor(img_path):\n",
    "    img = keras_image.load_img(\"flower_images/\"+img_path, target_size=(128, 128))\n",
    "    x = keras_image.img_to_array(img)\n",
    "    return np.expand_dims(x, axis=0)\n",
    "\n",
    "def paths_to_tensor(img_paths):\n",
    "    list_of_tensors = [path_to_tensor(img_path) for img_path in tqdm(img_paths)]\n",
    "    return np.vstack(list_of_tensors)\n",
    "\n",
    "ImageFile.LOAD_TRUNCATED_IMAGES = True                 \n",
    "flower_tensors = paths_to_tensor(flower_files);"
   ]
  },
  {
   "cell_type": "code",
   "execution_count": 14,
   "metadata": {
    "collapsed": false
   },
   "outputs": [
    {
     "name": "stdout",
     "output_type": "stream",
     "text": [
      "Label:  7\n"
     ]
    },
    {
     "data": {
      "image/png": "[encoded data removed]",
      "text/plain": [
       "<matplotlib.figure.Figure at 0x12487b6d8>"
      ]
     },
     "metadata": {
      "image/png": {
       "height": 186,
       "width": 377
      }
     },
     "output_type": "display_data"
    }
   ],
   "source": [
    "# rgb_image = tf.image.decode_png(\"flower_images/0023.png\")\n",
    "# rgb_image_float = tf.image.convert_image_dtype(rgb_image, tf.float32)\n",
    "\n",
    "img_scipy = misc.imread('flower_images/0023.png') \n",
    "\n",
    "image_tf = tf.Variable(img_scipy)\n",
    "init = tf.global_variables_initializer()\n",
    "sess = tf.Session()\n",
    "sess.run(init)\n",
    "img_tf = sess.run(image_tf)\n",
    "\n",
    "print('Label: ', flower_targets[22])\n",
    "fig = plt.figure()\n",
    "fig.add_subplot(1,2,1)\n",
    "plt.imshow(img_scipy)\n",
    "fig.add_subplot(1,2,2)\n",
    "plt.imshow(img_tf);"
   ]
  },
  {
   "cell_type": "code",
   "execution_count": 15,
   "metadata": {
    "collapsed": false
   },
   "outputs": [
    {
     "data": {
      "text/plain": [
       "[(189, 128, 128, 3), (189, 10), (21, 128, 128, 3), (21, 10)]"
      ]
     },
     "execution_count": 15,
     "metadata": {},
     "output_type": "execute_result"
    }
   ],
   "source": [
    "X_train3, X_test3, y_train3, y_test3 = train_test_split(flower_tensors, flower_targets, \n",
    "                                                        test_size = 0.1, random_state = 1)\n",
    "X_train3 = X_train3.astype('float32')/255\n",
    "X_test3 = X_test3.astype('float32')/255\n",
    "\n",
    "c_y_train3 = to_categorical(y_train3, 10)\n",
    "c_y_test3 = to_categorical(y_test3, 10)\n",
    "[X_train3.shape, c_y_train3.shape, X_test3.shape, c_y_test3.shape]"
   ]
  },
  {
   "cell_type": "markdown",
   "metadata": {},
   "source": [
    "## 2. Basics"
   ]
  },
  {
   "cell_type": "markdown",
   "metadata": {
    "collapsed": true
   },
   "source": [
    "In a **dataflow graph**, the nodes represent units of computation, and the edges represent the data consumed or produced by a computation.\n",
    "\n",
    "A `tf.Graph` contains two relevant kinds of information:\n",
    "\n",
    " * Graph structure, i.e. the nodes and edges of the graph, indicating how individual operations are composed together, but not prescribing how they should be used.\n",
    " * Graph collections for storing the metadata."
   ]
  },
  {
   "cell_type": "code",
   "execution_count": 16,
   "metadata": {
    "collapsed": false
   },
   "outputs": [
    {
     "name": "stdout",
     "output_type": "stream",
     "text": [
      "[[ 0.032041    0.047961    0.12888099]\n",
      " [ 0.175561    0.29052103  0.35880104]]\n"
     ]
    }
   ],
   "source": [
    "# Feed data into graphs through placeholders\n",
    "x = tf.placeholder(\"float32\", [None, None])\n",
    "y = (x-0.011) ** 2\n",
    "\n",
    "with tf.Session() as session:\n",
    "    result = session.run(y, feed_dict={x: [[0.19, 0.23, 0.37], [0.43, 0.55, 0.61]]})\n",
    "    print(result)"
   ]
  },
  {
   "cell_type": "code",
   "execution_count": 17,
   "metadata": {
    "collapsed": false
   },
   "outputs": [
    {
     "data": {
      "image/png": "[encoded data removed]",
      "text/plain": [
       "<matplotlib.figure.Figure at 0x122c45d68>"
      ]
     },
     "metadata": {
      "image/png": {
       "height": 195,
       "width": 1049
      }
     },
     "output_type": "display_data"
    }
   ],
   "source": [
    "# Linear Regression\n",
    "dual_currency_basket_210917 = [63.7716, 63.7873, 63.8250, 63.9114, 63.8960, 63.6317, 63.8868, 63.8921, \n",
    "                               63.5300, 62.9803, 62.7065, 62.7679, 62.3237, 62.1372, 62.2597, 62.3352, \n",
    "                               62.3422, 62.8113, 62.6866, 62.5045, 62.6314, 63.3099, 63.3658]\n",
    "\n",
    "\n",
    "gold_210917 = [2448.2700, 2439.3300, 2445.6800, 2444.9900, 2447.5000, 2419.3500, 2490.4400, 2474.7200, \n",
    "               2457.8800, 2460.8400, 2479.3200, 2475.8400, 2470.5400, 2462.5800, 2475.5000, 2460.6700, \n",
    "               2441.8000, 2470.0800, 2457.3000, 2450.9100, 2435.1400, 2444.1000, 2457.4000]\n",
    "\n",
    "max_dcb = np.max(dual_currency_basket_210917)\n",
    "dual_currency_basket_210917 = dual_currency_basket_210917 / max_dcb\n",
    "max_gold = np.max(gold_210917)\n",
    "gold_210917 = gold_210917 / max_gold \n",
    "\n",
    "plt.figure(figsize=(18,3))\n",
    "plt.scatter(dual_currency_basket_210917, gold_210917);"
   ]
  },
  {
   "cell_type": "code",
   "execution_count": 18,
   "metadata": {
    "collapsed": false
   },
   "outputs": [
    {
     "name": "stdout",
     "output_type": "stream",
     "text": [
      "Training Step: 1000  | total loss: \u001b[1m\u001b[32m0.00009\u001b[0m\u001b[0m | time: 0.004s\n",
      "\u001b[2K\r",
      "| SGD | epoch: 1000 | loss: 0.00009 - R2: 0.9999 -- iter: 23/23\n"
     ]
    }
   ],
   "source": [
    "# tf.reset_default_graph()\n",
    "lr_inputs = tflearn.input_data(shape=[None])\n",
    "lr = tflearn.single_unit(lr_inputs)\n",
    "                    \n",
    "linear_regression = tflearn.regression(lr, optimizer='sgd', loss='mean_square',\n",
    "                                       metric='R2', learning_rate=0.01)\n",
    "dnn_lr = tflearn.DNN(linear_regression)\n",
    "dnn_lr.fit(dual_currency_basket_210917, gold_210917, \n",
    "           n_epoch=1000, show_metric=True, snapshot_epoch=False)"
   ]
  },
  {
   "cell_type": "code",
   "execution_count": 19,
   "metadata": {
    "collapsed": false
   },
   "outputs": [
    {
     "name": "stdout",
     "output_type": "stream",
     "text": [
      "Regression result: \n",
      "\n",
      "gold_210917 = [ 0.57699966] * dual_currency_basket_210917 + [ 0.41685137]\n"
     ]
    }
   ],
   "source": [
    "print(\"Regression result: \\n\")\n",
    "print(\"gold_210917 = \" + str(dnn_lr.get_weights(lr.W)) +\n",
    "      \" * dual_currency_basket_210917 + \" + str(dnn_lr.get_weights(lr.b)))"
   ]
  },
  {
   "cell_type": "code",
   "execution_count": 21,
   "metadata": {
    "collapsed": false
   },
   "outputs": [
    {
     "name": "stdout",
     "output_type": "stream",
     "text": [
      "Test prediction for dual currency basket = [62.7081  63.4157  63.9709]: \n",
      "\n",
      "[ 2448.07128906  2463.98120117  2476.46411133]\n"
     ]
    }
   ],
   "source": [
    "print(\"Test prediction for dual currency basket = [62.7081  63.4157  63.9709]: \\n\")\n",
    "print(max_gold*dnn_lr.predict([62.7081/max_dcb, 63.4157/max_dcb, 63.9709/max_dcb]))"
   ]
  },
  {
   "cell_type": "markdown",
   "metadata": {
    "collapsed": true
   },
   "source": [
    "An **embedding** is a mapping from discrete objects, such as words, to vectors of real numbers.\n",
    "\n",
    "The Embedding Projector provides three ways to reduce the dimensionality of a data set (`t-SNE`, `PCA`, `Custom`)."
   ]
  },
  {
   "cell_type": "markdown",
   "metadata": {},
   "source": [
    "## 3. Neural Networks; TensorFlow\n",
    "### MLP"
   ]
  },
  {
   "cell_type": "code",
   "execution_count": null,
   "metadata": {
    "collapsed": true
   },
   "outputs": [],
   "source": []
  },
  {
   "cell_type": "markdown",
   "metadata": {},
   "source": [
    "### CNN"
   ]
  },
  {
   "cell_type": "code",
   "execution_count": null,
   "metadata": {
    "collapsed": true
   },
   "outputs": [],
   "source": []
  },
  {
   "cell_type": "markdown",
   "metadata": {},
   "source": [
    "### RNN "
   ]
  },
  {
   "cell_type": "code",
   "execution_count": null,
   "metadata": {
    "collapsed": true
   },
   "outputs": [],
   "source": []
  },
  {
   "cell_type": "markdown",
   "metadata": {},
   "source": [
    "## 4. Neural Networks; Tflearn\n",
    "### MLP"
   ]
  },
  {
   "cell_type": "code",
   "execution_count": 67,
   "metadata": {
    "collapsed": true
   },
   "outputs": [],
   "source": [
    "def mlp_mc_model():\n",
    "    tf.reset_default_graph()\n",
    "    \n",
    "    nn = tflearn.input_data([None, 784])\n",
    "    \n",
    "    nn = tflearn.fully_connected(nn, 784, activation='ReLU')    \n",
    "    nn = tflearn.fully_connected(nn, 392, activation='ReLU')\n",
    "    \n",
    "    nn = tflearn.fully_connected(nn, 10, activation='Softmax')\n",
    "    \n",
    "    acc = tflearn.metrics.Accuracy()\n",
    "    nn = tflearn.regression(nn, optimizer='adam', learning_rate=0.01, \n",
    "                            loss='categorical_crossentropy', metric=acc)\n",
    "    model = tflearn.DNN(nn)\n",
    "    return model\n",
    "\n",
    "mlp_mc_model = mlp_mc_model()"
   ]
  },
  {
   "cell_type": "code",
   "execution_count": 68,
   "metadata": {
    "collapsed": false
   },
   "outputs": [
    {
     "name": "stdout",
     "output_type": "stream",
     "text": [
      "Training Step: 11609  | total loss: \u001b[1m\u001b[32m1.64038\u001b[0m\u001b[0m | time: 12.453s\n",
      "| Adam | epoch: 030 | loss: 1.64038 - acc: 0.9167 -- iter: 49408/49500\n",
      "Training Step: 11610  | total loss: \u001b[1m\u001b[32m1.47882\u001b[0m\u001b[0m | time: 13.489s\n",
      "| Adam | epoch: 030 | loss: 1.47882 - acc: 0.9242 | val_loss: 0.20089 - val_acc: 0.9687 -- iter: 49500/49500\n",
      "--\n"
     ]
    }
   ],
   "source": [
    "mlp_mc_model.fit(X_train, y_train, validation_set=0.1, show_metric=True, batch_size=128, n_epoch=30)"
   ]
  },
  {
   "cell_type": "code",
   "execution_count": 69,
   "metadata": {
    "collapsed": false
   },
   "outputs": [
    {
     "name": "stdout",
     "output_type": "stream",
     "text": [
      "Test Accuracy: 95.53 %\n"
     ]
    }
   ],
   "source": [
    "y_test_mlp = np.array(mlp_model.predict(X_test)).argmax(axis=1)\n",
    "y_test_num = y_test.argmax(axis=1)\n",
    "\n",
    "test_accuracy_mlp = np.mean(y_test_mlp == y_test_num, axis=0)\n",
    "\n",
    "print(\"Test Accuracy: {} %\".format(test_accuracy_mlp*100))"
   ]
  },
  {
   "cell_type": "markdown",
   "metadata": {},
   "source": [
    "### CNN"
   ]
  },
  {
   "cell_type": "code",
   "execution_count": null,
   "metadata": {
    "collapsed": true
   },
   "outputs": [],
   "source": []
  },
  {
   "cell_type": "markdown",
   "metadata": {},
   "source": [
    "### RNN"
   ]
  },
  {
   "cell_type": "code",
   "execution_count": null,
   "metadata": {
    "collapsed": true
   },
   "outputs": [],
   "source": []
  }
 ],
 "metadata": {
  "hide_input": false,
  "kernelspec": {
   "display_name": "Python 3",
   "language": "python",
   "name": "python3"
  },
  "language_info": {
   "codemirror_mode": {
    "name": "ipython",
    "version": 3
   },
   "file_extension": ".py",
   "mimetype": "text/x-python",
   "name": "python",
   "nbconvert_exporter": "python",
   "pygments_lexer": "ipython3",
   "version": "3.6.1"
  },
  "latex_envs": {
   "bibliofile": "biblio.bib",
   "cite_by": "apalike",
   "current_citInitial": 1,
   "eqLabelWithNumbers": true,
   "eqNumInitial": 0
  }
 },
 "nbformat": 4,
 "nbformat_minor": 2
}
