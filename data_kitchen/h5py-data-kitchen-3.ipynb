{
 "cells": [
  {
   "cell_type": "code",
   "execution_count": 1,
   "metadata": {
    "_kg_hide-input": true,
    "execution": {
     "iopub.execute_input": "2020-10-16T09:06:16.859800Z",
     "iopub.status.busy": "2020-10-16T09:06:16.858877Z",
     "iopub.status.idle": "2020-10-16T09:06:16.870339Z",
     "shell.execute_reply": "2020-10-16T09:06:16.869769Z"
    },
    "papermill": {
     "duration": 0.023858,
     "end_time": "2020-10-16T09:06:16.870454",
     "exception": false,
     "start_time": "2020-10-16T09:06:16.846596",
     "status": "completed"
    },
    "tags": []
   },
   "outputs": [
    {
     "data": {
      "text/html": [
       "<style>\n",
       "    @import 'https://fonts.googleapis.com/css?family=Smokum&effect=3d-float';</style>\n",
       "    <h1 class='font-effect-3d-float' \n",
       "    style='font-family:Smokum; color:#FF355E; font-size:25px;'>\n",
       "    Data Type #3 => Multi-Labeled PNG Files</h1>"
      ],
      "text/plain": [
       "<IPython.core.display.HTML object>"
      ]
     },
     "metadata": {},
     "output_type": "display_data"
    }
   ],
   "source": [
    "%run ../input/python-recipes/dhtml.py\n",
    "dhtml('Data Type #3 => Multi-Labeled PNG Files')"
   ]
  },
  {
   "cell_type": "code",
   "execution_count": 2,
   "metadata": {
    "_kg_hide-input": true,
    "execution": {
     "iopub.execute_input": "2020-10-16T09:06:16.892380Z",
     "iopub.status.busy": "2020-10-16T09:06:16.891298Z",
     "iopub.status.idle": "2020-10-16T09:06:16.895013Z",
     "shell.execute_reply": "2020-10-16T09:06:16.895619Z"
    },
    "papermill": {
     "duration": 0.018258,
     "end_time": "2020-10-16T09:06:16.895767",
     "exception": false,
     "start_time": "2020-10-16T09:06:16.877509",
     "status": "completed"
    },
    "tags": []
   },
   "outputs": [
    {
     "name": "stdout",
     "output_type": "stream",
     "text": [
      "Writing multilabel_data_h5.py\n"
     ]
    }
   ],
   "source": [
    "%%writefile multilabel_data_h5.py\n",
    "import h5py,os,pandas as pd,numpy as np\n",
    "import seaborn as sn,pylab as pl\n",
    "from IPython.display import display\n",
    "from tensorflow.keras.preprocessing \\\n",
    "import image as tkimg\n",
    "\n",
    "def images2array(files_path,img_size,preprocess):\n",
    "    files_list=sorted(os.listdir(files_path))\n",
    "    n,img_array=len(files_list),[]\n",
    "    for i in range(n):\n",
    "        if i%round(.1*n)==0:\n",
    "            print('=>',end='',flush=True)\n",
    "        img_path=files_path+files_list[i]\n",
    "        if preprocess=='True':\n",
    "            img=tkimg.load_img(img_path)\n",
    "            img=tkimg.img_to_array(img)\n",
    "            img=tkimg.smart_resize(\n",
    "                img,(img_size,img_size))\n",
    "        else:\n",
    "            img=tkimg.load_img(\n",
    "                img_path,target_size=(img_size,img_size))\n",
    "            img=tkimg.img_to_array(img)\n",
    "        img=np.expand_dims(img,axis=0)/255\n",
    "        img_array.append(img)\n",
    "    return np.array(np.vstack(img_array),\n",
    "                    dtype='float32')\n",
    "\n",
    "def labels2array(files_path,num_labels):\n",
    "    files_list=sorted(os.listdir(files_path))\n",
    "    labels1=[int(el[:2]) for el in files_list]\n",
    "    label_set1=list(set(labels1))\n",
    "    rd1=dict(zip(label_set1,\n",
    "                 list(range(len(label_set1)))))\n",
    "    labels1=np.array(\n",
    "        [rd1.get(x,x) for x in labels1],\n",
    "        dtype=np.int32)\n",
    "    labels2=[int(el[3:5]) for el in files_list]\n",
    "    label_set2=list(set(labels2))\n",
    "    rd2=dict(zip(label_set2,\n",
    "                 list(range(len(label_set2)))))\n",
    "    labels2=np.array(\n",
    "        [rd2.get(x,x) for x in labels2],\n",
    "        dtype=np.int32)\n",
    "    if num_labels==3:\n",
    "        labels3=[int(el[6:8]) for el in files_list]\n",
    "        label_set3=list(set(labels3))\n",
    "        rd3=dict(zip(label_set3,\n",
    "                     list(range(len(label_set3)))))\n",
    "        labels3=np.array(\n",
    "            [rd3.get(x,x) for x in labels3],\n",
    "            dtype=np.int32)\n",
    "        return [labels1,labels2,labels3]\n",
    "    else:\n",
    "        return [labels1,labels2]\n",
    "    \n",
    "def data2h5file(h5file,files_path,img_size,num_labels,\n",
    "                names,preprocess='False'):\n",
    "    images=images2array(files_path,img_size,preprocess)\n",
    "    names1,names2=names[0],names[1]\n",
    "    labels1=labels2array(files_path,num_labels)[0]\n",
    "    maxlen1=max([len(n) for n in names1])\n",
    "    names1=np.array([np.string_(name) \n",
    "                     for name in names1])\n",
    "    labels2=labels2array(files_path,num_labels)[1]\n",
    "    maxlen2=max([len(n) for n in names2])\n",
    "    names2=np.array([np.string_(name) \n",
    "                     for name in names2])\n",
    "    if num_labels==3:\n",
    "        names3=names[2]\n",
    "        labels3=labels2array(files_path,num_labels)[2]\n",
    "        maxlen3=max([len(n) for n in names3])\n",
    "        names3=np.array([np.string_(name) \n",
    "                         for name in names3])\n",
    "    with h5py.File(h5file,'w') as f:\n",
    "        f.create_dataset('images',data=images,\n",
    "                         compression=\"gzip\")\n",
    "        f.create_dataset('labels1',data=labels1,\n",
    "                         compression=\"gzip\")\n",
    "        f.create_dataset('names1',data=names1,\n",
    "                         dtype='S%d'%maxlen1,\n",
    "                         compression=\"gzip\")\n",
    "        f.create_dataset('labels2',data=labels2,\n",
    "                         compression=\"gzip\")\n",
    "        f.create_dataset('names2',data=names2,\n",
    "                         dtype='S%d'%maxlen2,\n",
    "                         compression=\"gzip\")\n",
    "        if num_labels==3:\n",
    "            f.create_dataset('labels3',data=labels3,\n",
    "                             compression=\"gzip\")\n",
    "            f.create_dataset('names3',data=names3,\n",
    "                             dtype='S%d'%maxlen3,\n",
    "                             compression=\"gzip\")\n",
    "        f.close()\n",
    "    print('\\nfile size: %s'%list(os.stat(h5file))[6])\n",
    "    \n",
    "def h5file2data(h5file,num_labels,cmap='Pastel1'):\n",
    "    with h5py.File(h5file,'r') as f:\n",
    "        keys=list(f.keys())\n",
    "        print('file keys: '+', '.join(keys))\n",
    "        images=np.array(f[keys[0]])\n",
    "        labels1=np.array(f[keys[1]])\n",
    "        names1=[el.decode('utf-8') for el in f[keys[4]]]\n",
    "        labels2=np.array(f[keys[2]])\n",
    "        names2=[el.decode('utf-8') for el in f[keys[5]]]\n",
    "        if num_labels==3:\n",
    "            labels3=np.array(f[keys[3]])\n",
    "            names3=[el.decode('utf-8') for el in f[keys[6]]]\n",
    "        f.close()\n",
    "    del h5file\n",
    "    N=labels1.shape[0]; n=int(.1*N)\n",
    "    shuffle_ids=np.arange(N)\n",
    "    np.random.RandomState(12).shuffle(shuffle_ids)\n",
    "    images=images[shuffle_ids]\n",
    "    labels1=labels1[shuffle_ids]\n",
    "    labels2=labels2[shuffle_ids]\n",
    "    x_test,x_valid,x_train=\\\n",
    "    images[:n],images[n:2*n],images[2*n:]\n",
    "    y_test1,y_valid1,y_train1=\\\n",
    "    labels1[:n],labels1[n:2*n],labels1[2*n:]\n",
    "    y_test2,y_valid2,y_train2=\\\n",
    "    labels2[:n],labels2[n:2*n],labels2[2*n:]\n",
    "    if num_labels==3:\n",
    "        labels3=labels3[shuffle_ids]\n",
    "        y_test3,y_valid3,y_train3=\\\n",
    "        labels3[:n],labels3[n:2*n],labels3[2*n:]\n",
    "    print('data outputs: ')\n",
    "    df=pd.DataFrame([[x_train.shape,x_valid.shape,x_test.shape],\n",
    "                     [x_train.dtype,x_valid.dtype,x_test.dtype],\n",
    "                     [y_train1.shape,y_valid1.shape,y_test1.shape],\n",
    "                     [y_train1.dtype,y_valid1.dtype,y_test1.dtype],\n",
    "                     [y_train2.shape,y_valid2.shape,y_test2.shape],\n",
    "                     [y_train2.dtype,y_valid2.dtype,y_test2.dtype]],\n",
    "                    columns=['train','valid','test'],\n",
    "                    index=['image shape','image type',\n",
    "                           'label 1 shape','label 1 type',\n",
    "                           'label 2 shape','label 2 type'])\n",
    "    if num_labels==3:\n",
    "        df.loc['label 3 shape']=\\\n",
    "        [y_train3.shape,y_valid3.shape,y_test3.shape]\n",
    "        df.loc['label 3 type']=\\\n",
    "        [y_train3.dtype,y_valid3.dtype,y_test3.dtype]\n",
    "    display(df)\n",
    "    print('distribution of labels: ')\n",
    "    df=pd.DataFrame([labels1,labels2],\n",
    "                    index=['label 1','label 2']).T\n",
    "    df['name 1']=[names1[l] for l in labels1]\n",
    "    df['name 2']=[names2[l] for l in labels2]\n",
    "    if num_labels==3:\n",
    "        df['label 3']=labels3\n",
    "        df['name 3']=[names3[l] for l in labels3]\n",
    "    fig=pl.figure(figsize=(10,10))    \n",
    "    for i in range(num_labels):\n",
    "        ax=fig.add_subplot(num_labels,1,i+1)\n",
    "        sn.countplot(x='name %s'%(i+1),data=df,\n",
    "                     palette=cmap,alpha=.5,ax=ax)\n",
    "    pl.show()       \n",
    "    result=[x_train,x_valid,x_test,\n",
    "            y_train1,y_valid1,y_test1,names1,\n",
    "            y_train2,y_valid2,y_test2,names2]\n",
    "    if num_labels==3:\n",
    "        result+=[y_train3,y_valid3,y_test3,names3]\n",
    "    return result\n",
    "\n",
    "def display_images(images,labels,names,num_labels,n):\n",
    "    labels1,labels2=labels[0],labels[1]\n",
    "    names1,names2=names[0],names[1]\n",
    "    if num_labels==3:\n",
    "        labels3=labels[2]; names3=names[2]\n",
    "    fig=pl.figure(figsize=(10,n))\n",
    "    randch=np.random.choice(\n",
    "        len(labels1),size=n,replace=False)\n",
    "    for i,idx in enumerate(randch):\n",
    "        ax=fig.add_subplot(\n",
    "            n//3,3,i+1,xticks=[],yticks=[])\n",
    "        ax.imshow(images[idx])\n",
    "        label=[labels1[idx],labels2[idx]]\n",
    "        name=[names1[labels1[idx]],\n",
    "                names2[labels2[idx]]]\n",
    "        if num_labels==3:\n",
    "            label+=[labels3[idx]]\n",
    "            name+=[names3[labels3[idx]]]\n",
    "        ax.set_title('{} \\n {}'\\\n",
    "                     .format(str(label),str(name)),\n",
    "                     fontsize=10)\n",
    "    pl.show()"
   ]
  },
  {
   "cell_type": "code",
   "execution_count": 3,
   "metadata": {
    "execution": {
     "iopub.execute_input": "2020-10-16T09:06:16.914306Z",
     "iopub.status.busy": "2020-10-16T09:06:16.913667Z",
     "iopub.status.idle": "2020-10-16T09:06:22.846793Z",
     "shell.execute_reply": "2020-10-16T09:06:22.846035Z"
    },
    "papermill": {
     "duration": 5.944477,
     "end_time": "2020-10-16T09:06:22.846925",
     "exception": false,
     "start_time": "2020-10-16T09:06:16.902448",
     "status": "completed"
    },
    "tags": []
   },
   "outputs": [],
   "source": [
    "%run multilabel_data_h5.py"
   ]
  },
  {
   "cell_type": "code",
   "execution_count": 4,
   "metadata": {
    "execution": {
     "iopub.execute_input": "2020-10-16T09:06:22.867478Z",
     "iopub.status.busy": "2020-10-16T09:06:22.866851Z",
     "iopub.status.idle": "2020-10-16T09:06:22.870142Z",
     "shell.execute_reply": "2020-10-16T09:06:22.869475Z"
    },
    "papermill": {
     "duration": 0.016331,
     "end_time": "2020-10-16T09:06:22.870254",
     "exception": false,
     "start_time": "2020-10-16T09:06:22.853923",
     "status": "completed"
    },
    "tags": []
   },
   "outputs": [],
   "source": [
    "files_path1='../input/classification-of-handwritten-letters/'+\\\n",
    "            'zip_letters/letters/'\n",
    "img_size1=32; num_labels1=3\n",
    "h5file1='Letters'+str(img_size1)+'.h5'\n",
    "names11=['lowercase','uppercase']\n",
    "names12=[s.encode('utf-8') for s in \n",
    "         u'абвгдеёжзийклмнопрстуфхцчшщъыьэюя']\n",
    "names13=['single-colored paper','striped paper',\n",
    "         'squared paper','graph paper']"
   ]
  },
  {
   "cell_type": "code",
   "execution_count": 5,
   "metadata": {
    "execution": {
     "iopub.execute_input": "2020-10-16T09:06:22.888862Z",
     "iopub.status.busy": "2020-10-16T09:06:22.888253Z",
     "iopub.status.idle": "2020-10-16T09:07:11.308862Z",
     "shell.execute_reply": "2020-10-16T09:07:11.308266Z"
    },
    "papermill": {
     "duration": 48.431741,
     "end_time": "2020-10-16T09:07:11.309005",
     "exception": false,
     "start_time": "2020-10-16T09:06:22.877264",
     "status": "completed"
    },
    "tags": []
   },
   "outputs": [
    {
     "name": "stdout",
     "output_type": "stream",
     "text": [
      "=>=>=>=>=>=>=>=>=>=>\n",
      "file size: 46124128\n"
     ]
    }
   ],
   "source": [
    "data2h5file(h5file1,files_path1,img_size1,num_labels1,\n",
    "            [names11,names12,names13],preprocess='True')"
   ]
  },
  {
   "cell_type": "code",
   "execution_count": 6,
   "metadata": {
    "execution": {
     "iopub.execute_input": "2020-10-16T09:07:12.633782Z",
     "iopub.status.busy": "2020-10-16T09:07:11.335828Z",
     "iopub.status.idle": "2020-10-16T09:07:14.328184Z",
     "shell.execute_reply": "2020-10-16T09:07:14.327538Z"
    },
    "papermill": {
     "duration": 3.008752,
     "end_time": "2020-10-16T09:07:14.328299",
     "exception": false,
     "start_time": "2020-10-16T09:07:11.319547",
     "status": "completed"
    },
    "tags": []
   },
   "outputs": [
    {
     "name": "stdout",
     "output_type": "stream",
     "text": [
      "file keys: images, labels1, labels2, labels3, names1, names2, names3\n",
      "data outputs: \n"
     ]
    },
    {
     "data": {
      "text/html": [
       "<div>\n",
       "<style scoped>\n",
       "    .dataframe tbody tr th:only-of-type {\n",
       "        vertical-align: middle;\n",
       "    }\n",
       "\n",
       "    .dataframe tbody tr th {\n",
       "        vertical-align: top;\n",
       "    }\n",
       "\n",
       "    .dataframe thead th {\n",
       "        text-align: right;\n",
       "    }\n",
       "</style>\n",
       "<table border=\"1\" class=\"dataframe\">\n",
       "  <thead>\n",
       "    <tr style=\"text-align: right;\">\n",
       "      <th></th>\n",
       "      <th>train</th>\n",
       "      <th>valid</th>\n",
       "      <th>test</th>\n",
       "    </tr>\n",
       "  </thead>\n",
       "  <tbody>\n",
       "    <tr>\n",
       "      <th>image shape</th>\n",
       "      <td>(11352, 32, 32, 3)</td>\n",
       "      <td>(1419, 32, 32, 3)</td>\n",
       "      <td>(1419, 32, 32, 3)</td>\n",
       "    </tr>\n",
       "    <tr>\n",
       "      <th>image type</th>\n",
       "      <td>float32</td>\n",
       "      <td>float32</td>\n",
       "      <td>float32</td>\n",
       "    </tr>\n",
       "    <tr>\n",
       "      <th>label 1 shape</th>\n",
       "      <td>(11352,)</td>\n",
       "      <td>(1419,)</td>\n",
       "      <td>(1419,)</td>\n",
       "    </tr>\n",
       "    <tr>\n",
       "      <th>label 1 type</th>\n",
       "      <td>int32</td>\n",
       "      <td>int32</td>\n",
       "      <td>int32</td>\n",
       "    </tr>\n",
       "    <tr>\n",
       "      <th>label 2 shape</th>\n",
       "      <td>(11352,)</td>\n",
       "      <td>(1419,)</td>\n",
       "      <td>(1419,)</td>\n",
       "    </tr>\n",
       "    <tr>\n",
       "      <th>label 2 type</th>\n",
       "      <td>int32</td>\n",
       "      <td>int32</td>\n",
       "      <td>int32</td>\n",
       "    </tr>\n",
       "    <tr>\n",
       "      <th>label 3 shape</th>\n",
       "      <td>(11352,)</td>\n",
       "      <td>(1419,)</td>\n",
       "      <td>(1419,)</td>\n",
       "    </tr>\n",
       "    <tr>\n",
       "      <th>label 3 type</th>\n",
       "      <td>int32</td>\n",
       "      <td>int32</td>\n",
       "      <td>int32</td>\n",
       "    </tr>\n",
       "  </tbody>\n",
       "</table>\n",
       "</div>"
      ],
      "text/plain": [
       "                            train              valid               test\n",
       "image shape    (11352, 32, 32, 3)  (1419, 32, 32, 3)  (1419, 32, 32, 3)\n",
       "image type                float32            float32            float32\n",
       "label 1 shape            (11352,)            (1419,)            (1419,)\n",
       "label 1 type                int32              int32              int32\n",
       "label 2 shape            (11352,)            (1419,)            (1419,)\n",
       "label 2 type                int32              int32              int32\n",
       "label 3 shape            (11352,)            (1419,)            (1419,)\n",
       "label 3 type                int32              int32              int32"
      ]
     },
     "metadata": {},
     "output_type": "display_data"
    },
    {
     "name": "stdout",
     "output_type": "stream",
     "text": [
      "distribution of labels: \n"
     ]
    },
    {
     "data": {
      "image/png": "[encoded data removed]",
      "text/plain": [
       "<Figure size 720x720 with 3 Axes>"
      ]
     },
     "metadata": {
      "needs_background": "light"
     },
     "output_type": "display_data"
    }
   ],
   "source": [
    "[x_train1,x_valid1,x_test1,\n",
    " y_train11,y_valid11,y_test11,names11,\n",
    " y_train12,y_valid12,y_test12,names12,\n",
    " y_train13,y_valid13,y_test13,names13]=\\\n",
    "h5file2data(h5file1,num_labels1)"
   ]
  },
  {
   "cell_type": "code",
   "execution_count": 7,
   "metadata": {
    "execution": {
     "iopub.execute_input": "2020-10-16T09:07:14.363979Z",
     "iopub.status.busy": "2020-10-16T09:07:14.362987Z",
     "iopub.status.idle": "2020-10-16T09:07:14.693199Z",
     "shell.execute_reply": "2020-10-16T09:07:14.692542Z"
    },
    "papermill": {
     "duration": 0.352478,
     "end_time": "2020-10-16T09:07:14.693315",
     "exception": false,
     "start_time": "2020-10-16T09:07:14.340837",
     "status": "completed"
    },
    "tags": []
   },
   "outputs": [
    {
     "data": {
      "image/png": "[encoded data removed]",
      "text/plain": [
       "<Figure size 720x648 with 9 Axes>"
      ]
     },
     "metadata": {},
     "output_type": "display_data"
    }
   ],
   "source": [
    "display_images(\n",
    "    x_train1,[y_train11,y_train12,y_train13],\n",
    "    [names11,names12,names13],num_labels1,9)"
   ]
  },
  {
   "cell_type": "code",
   "execution_count": 8,
   "metadata": {
    "_kg_hide-input": true,
    "execution": {
     "iopub.execute_input": "2020-10-16T09:07:14.728088Z",
     "iopub.status.busy": "2020-10-16T09:07:14.727285Z",
     "iopub.status.idle": "2020-10-16T09:07:14.731558Z",
     "shell.execute_reply": "2020-10-16T09:07:14.731002Z"
    },
    "papermill": {
     "duration": 0.023786,
     "end_time": "2020-10-16T09:07:14.731671",
     "exception": false,
     "start_time": "2020-10-16T09:07:14.707885",
     "status": "completed"
    },
    "tags": []
   },
   "outputs": [
    {
     "data": {
      "text/html": [
       "<style>\n",
       "    @import 'https://fonts.googleapis.com/css?family=Smokum&effect=3d-float';</style>\n",
       "    <h1 class='font-effect-3d-float' \n",
       "    style='font-family:Smokum; color:#FF355E; font-size:25px;'>\n",
       "    In Progress</h1>"
      ],
      "text/plain": [
       "<IPython.core.display.HTML object>"
      ]
     },
     "metadata": {},
     "output_type": "display_data"
    }
   ],
   "source": [
    "dhtml('In Progress')"
   ]
  }
 ],
 "metadata": {
  "kernelspec": {
   "display_name": "Python 3",
   "language": "python",
   "name": "python3"
  },
  "language_info": {
   "codemirror_mode": {
    "name": "ipython",
    "version": 3
   },
   "file_extension": ".py",
   "mimetype": "text/x-python",
   "name": "python",
   "nbconvert_exporter": "python",
   "pygments_lexer": "ipython3",
   "version": "3.7.6"
  },
  "papermill": {
   "duration": 62.215512,
   "end_time": "2020-10-16T09:07:14.854621",
   "environment_variables": {},
   "exception": null,
   "input_path": "__notebook__.ipynb",
   "output_path": "__notebook__.ipynb",
   "parameters": {},
   "start_time": "2020-10-16T09:06:12.639109",
   "version": "2.1.0"
  }
 },
 "nbformat": 4,
 "nbformat_minor": 4
}
