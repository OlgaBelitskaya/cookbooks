{
 "cells": [
  {
   "cell_type": "markdown",
   "metadata": {},
   "source": [
    "## 0. Code Library and Links"
   ]
  },
  {
   "cell_type": "code",
   "execution_count": 1,
   "metadata": {
    "collapsed": true
   },
   "outputs": [],
   "source": [
    "import numpy as np \n",
    "import pandas as pd \n",
    "\n",
    "import scipy\n",
    "import seaborn\n",
    "\n",
    "import matplotlib.pylab as plt\n",
    "from matplotlib import cm\n",
    "\n",
    "%matplotlib inline"
   ]
  },
  {
   "cell_type": "code",
   "execution_count": 2,
   "metadata": {
    "collapsed": false
   },
   "outputs": [
    {
     "name": "stderr",
     "output_type": "stream",
     "text": [
      "Using TensorFlow backend.\n"
     ]
    }
   ],
   "source": [
    "import keras"
   ]
  },
  {
   "cell_type": "code",
   "execution_count": 3,
   "metadata": {
    "collapsed": true
   },
   "outputs": [],
   "source": [
    "import tensorflow.examples.tutorials.mnist as mnist"
   ]
  },
  {
   "cell_type": "code",
   "execution_count": 4,
   "metadata": {
    "collapsed": false
   },
   "outputs": [],
   "source": [
    "from keras.datasets import cifar10, imdb, boston_housing"
   ]
  },
  {
   "cell_type": "code",
   "execution_count": 5,
   "metadata": {
    "collapsed": true
   },
   "outputs": [],
   "source": [
    "from sklearn.datasets import make_classification\n",
    "from sklearn.model_selection import train_test_split"
   ]
  },
  {
   "cell_type": "code",
   "execution_count": 6,
   "metadata": {
    "collapsed": true
   },
   "outputs": [],
   "source": [
    "from keras.preprocessing import sequence"
   ]
  },
  {
   "cell_type": "code",
   "execution_count": 7,
   "metadata": {
    "collapsed": true
   },
   "outputs": [],
   "source": [
    "from keras.utils import to_categorical"
   ]
  },
  {
   "cell_type": "code",
   "execution_count": 8,
   "metadata": {
    "collapsed": false
   },
   "outputs": [],
   "source": [
    "from keras.models import Sequential, load_model, Model"
   ]
  },
  {
   "cell_type": "code",
   "execution_count": 9,
   "metadata": {
    "collapsed": true
   },
   "outputs": [],
   "source": [
    "from keras.layers import Dense, Dropout, LSTM\n",
    "from keras.layers import Activation, Flatten, Input, BatchNormalization"
   ]
  },
  {
   "cell_type": "code",
   "execution_count": 10,
   "metadata": {
    "collapsed": true
   },
   "outputs": [],
   "source": [
    "from keras.layers.advanced_activations import PReLU"
   ]
  },
  {
   "cell_type": "code",
   "execution_count": null,
   "metadata": {
    "collapsed": true
   },
   "outputs": [],
   "source": []
  },
  {
   "cell_type": "markdown",
   "metadata": {},
   "source": [
    "## 1. Backend"
   ]
  },
  {
   "cell_type": "code",
   "execution_count": 11,
   "metadata": {
    "collapsed": false
   },
   "outputs": [
    {
     "data": {
      "text/plain": [
       "''"
      ]
     },
     "execution_count": 11,
     "metadata": {},
     "output_type": "execute_result"
    }
   ],
   "source": [
    "'''\n",
    "/.keras/keras.json\n",
    "{\"image_data_format\": \"channels_last\",\n",
    " \"epsilon\": 1e-07,\n",
    " \"floatx\": \"float32\",\n",
    " \"backend\": \"tensorflow\"}\n",
    "'''\n",
    "''''''"
   ]
  },
  {
   "cell_type": "code",
   "execution_count": 12,
   "metadata": {
    "collapsed": false
   },
   "outputs": [
    {
     "data": {
      "text/plain": [
       "'tensorflow'"
      ]
     },
     "execution_count": 12,
     "metadata": {},
     "output_type": "execute_result"
    }
   ],
   "source": [
    "# variants: \"theano\", \"tensorflow\", \"cntk\"\n",
    "keras.backend.backend()"
   ]
  },
  {
   "cell_type": "code",
   "execution_count": 13,
   "metadata": {
    "collapsed": false
   },
   "outputs": [
    {
     "data": {
      "text/plain": [
       "'tf'"
      ]
     },
     "execution_count": 13,
     "metadata": {},
     "output_type": "execute_result"
    }
   ],
   "source": [
    "keras.backend.image_dim_ordering()"
   ]
  },
  {
   "cell_type": "markdown",
   "metadata": {},
   "source": [
    "## 2. Data Samples"
   ]
  },
  {
   "cell_type": "code",
   "execution_count": 31,
   "metadata": {
    "collapsed": true
   },
   "outputs": [],
   "source": [
    "# 32x32 color images; 50,000 - the train set; 10,000 - the test set; labeled over 10 categories\n",
    "(x_train1, y_train1), (x_test1, y_test1) = cifar10.load_data()"
   ]
  },
  {
   "cell_type": "code",
   "execution_count": 32,
   "metadata": {
    "collapsed": false
   },
   "outputs": [
    {
     "data": {
      "text/plain": [
       "(((50000, 32, 32, 3), (50000, 1)), ((10000, 32, 32, 3), (10000, 1)))"
      ]
     },
     "execution_count": 32,
     "metadata": {},
     "output_type": "execute_result"
    }
   ],
   "source": [
    "(x_train1.shape, y_train1.shape), (x_test1.shape, y_test1.shape)"
   ]
  },
  {
   "cell_type": "code",
   "execution_count": 33,
   "metadata": {
    "collapsed": false
   },
   "outputs": [
    {
     "name": "stdout",
     "output_type": "stream",
     "text": [
      "9\n"
     ]
    },
    {
     "data": {
      "image/png": "[encoded data removed]",
      "text/plain": [
       "<matplotlib.figure.Figure at 0x1161ccdd8>"
      ]
     },
     "metadata": {},
     "output_type": "display_data"
    }
   ],
   "source": [
    "print(y_train1[1][0])\n",
    "plt.figure(figsize=(2,2))\n",
    "plt.imshow(x_train1[1]);"
   ]
  },
  {
   "cell_type": "code",
   "execution_count": 34,
   "metadata": {
    "collapsed": false
   },
   "outputs": [
    {
     "name": "stdout",
     "output_type": "stream",
     "text": [
      "Extracting MNIST_data/train-images-idx3-ubyte.gz\n",
      "Extracting MNIST_data/train-labels-idx1-ubyte.gz\n",
      "Extracting MNIST_data/t10k-images-idx3-ubyte.gz\n",
      "Extracting MNIST_data/t10k-labels-idx1-ubyte.gz\n"
     ]
    }
   ],
   "source": [
    "# 28x28 grayscale images; 55,000 - the train set; 10,000 - the test set; labeled over 10 categories\n",
    "mnist_data = mnist.input_data.read_data_sets(\"MNIST_data/\", one_hot=True)"
   ]
  },
  {
   "cell_type": "code",
   "execution_count": 35,
   "metadata": {
    "collapsed": false
   },
   "outputs": [],
   "source": [
    "(x_train2, y_train2), (x_test2, y_test2) = \\\n",
    "(mnist_data.train.images, mnist_data.train.labels), (mnist_data.test.images, mnist_data.test.labels)"
   ]
  },
  {
   "cell_type": "code",
   "execution_count": 36,
   "metadata": {
    "collapsed": false
   },
   "outputs": [
    {
     "data": {
      "text/plain": [
       "(((55000, 784), (55000, 10)), ((10000, 784), (10000, 10)))"
      ]
     },
     "execution_count": 36,
     "metadata": {},
     "output_type": "execute_result"
    }
   ],
   "source": [
    "(x_train2.shape, y_train2.shape), (x_test2.shape, y_test2.shape)"
   ]
  },
  {
   "cell_type": "code",
   "execution_count": 37,
   "metadata": {
    "collapsed": false
   },
   "outputs": [
    {
     "name": "stdout",
     "output_type": "stream",
     "text": [
      "[ 0.  0.  0.  1.  0.  0.  0.  0.  0.  0.]\n"
     ]
    },
    {
     "data": {
      "image/png": "[encoded data removed]",
      "text/plain": [
       "<matplotlib.figure.Figure at 0x1161fcc50>"
      ]
     },
     "metadata": {},
     "output_type": "display_data"
    }
   ],
   "source": [
    "print(y_train2[1])\n",
    "plt.figure(figsize=(2,2))\n",
    "plt.imshow(x_train2[1].reshape(28,28), cmap=cm.Blues);"
   ]
  },
  {
   "cell_type": "code",
   "execution_count": 38,
   "metadata": {
    "collapsed": true
   },
   "outputs": [],
   "source": [
    "# 25,000 movies reviews from IMDB, labeled by sentiment (positive/negative)\n",
    "num_words, max_length, embedding_vector_length = 10000, 1000, 32\n",
    "(x_train3, y_train3), (x_test3, y_test3) = imdb.load_data(path=\"imdb_full.pkl\", num_words=num_words,\n",
    "                                                          skip_top=0, maxlen=max_length, seed=113,\n",
    "                                                          start_char=1, oov_char=2, index_from=3)"
   ]
  },
  {
   "cell_type": "code",
   "execution_count": 39,
   "metadata": {
    "collapsed": false
   },
   "outputs": [
    {
     "data": {
      "text/plain": [
       "(((25000,), (25000,)), ((24819,), (24819,)))"
      ]
     },
     "execution_count": 39,
     "metadata": {},
     "output_type": "execute_result"
    }
   ],
   "source": [
    "(x_train3.shape, y_train3.shape), (x_test3.shape, y_test3.shape)"
   ]
  },
  {
   "cell_type": "code",
   "execution_count": 40,
   "metadata": {
    "collapsed": true
   },
   "outputs": [],
   "source": [
    "# \n",
    "(x_train4, y_train4), (x_test4, y_test4) =  boston_housing.load_data()"
   ]
  },
  {
   "cell_type": "code",
   "execution_count": 41,
   "metadata": {
    "collapsed": false
   },
   "outputs": [
    {
     "data": {
      "text/plain": [
       "(((404, 13), (404,)), ((102, 13), (102,)))"
      ]
     },
     "execution_count": 41,
     "metadata": {},
     "output_type": "execute_result"
    }
   ],
   "source": [
    "(x_train4.shape, y_train4.shape), (x_test4.shape, y_test4.shape)"
   ]
  },
  {
   "cell_type": "code",
   "execution_count": 42,
   "metadata": {
    "collapsed": false
   },
   "outputs": [
    {
     "data": {
      "image/png": "[encoded data removed]",
      "text/plain": [
       "<matplotlib.figure.Figure at 0x127a0f6d8>"
      ]
     },
     "metadata": {},
     "output_type": "display_data"
    }
   ],
   "source": [
    "plt.style.use('seaborn-whitegrid')\n",
    "plt.figure(figsize=(18, 3))\n",
    "plt.hist(y_train4, bins=50, normed=True, alpha=0.7);"
   ]
  },
  {
   "cell_type": "code",
   "execution_count": 43,
   "metadata": {
    "collapsed": false
   },
   "outputs": [],
   "source": [
    "# classification; the artificial set; labeled over 2 categories \n",
    "X5, Y5 = make_classification(n_samples=1000, n_features=2, n_redundant=0, n_informative=2)\n",
    "x_train5, x_test5, y_train5, y_test5 = train_test_split(X5, Y5, test_size = 0.2, random_state = 1)"
   ]
  },
  {
   "cell_type": "code",
   "execution_count": 44,
   "metadata": {
    "collapsed": false
   },
   "outputs": [
    {
     "data": {
      "text/plain": [
       "(((800, 2), (800,)), ((200, 2), (200,)))"
      ]
     },
     "execution_count": 44,
     "metadata": {},
     "output_type": "execute_result"
    }
   ],
   "source": [
    "(x_train5.shape, y_train5.shape), (x_test5.shape, y_test5.shape)"
   ]
  },
  {
   "cell_type": "code",
   "execution_count": 45,
   "metadata": {
    "collapsed": false
   },
   "outputs": [
    {
     "data": {
      "image/png": "[encoded data removed]",
      "text/plain": [
       "<matplotlib.figure.Figure at 0x1512649e8>"
      ]
     },
     "metadata": {},
     "output_type": "display_data"
    }
   ],
   "source": [
    "plt.figure(figsize=(18, 3))\n",
    "plt.scatter(X5[:, 0], X5[:, 1], marker='o', c=Y5, cmap=cm.jet);"
   ]
  },
  {
   "cell_type": "markdown",
   "metadata": {},
   "source": [
    "## 3. Preprocessing"
   ]
  },
  {
   "cell_type": "code",
   "execution_count": 46,
   "metadata": {
    "collapsed": true
   },
   "outputs": [],
   "source": [
    "# Sequence Padding\n",
    "p_x_train3 = sequence.pad_sequences(x_train3, maxlen=max_length)\n",
    "p_x_test3 = sequence.pad_sequences(x_test3, maxlen=max_length)"
   ]
  },
  {
   "cell_type": "code",
   "execution_count": 47,
   "metadata": {
    "collapsed": false
   },
   "outputs": [],
   "source": [
    "# One-Hot Encoding\n",
    "c_y_train1 = to_categorical(y_train1, 10)\n",
    "c_y_test1 = to_categorical(y_test1, 10)"
   ]
  },
  {
   "cell_type": "markdown",
   "metadata": {},
   "source": [
    "## 4. Models\n",
    "\n",
    "*Optimizers:*\n",
    "\n",
    "- 'adam', 'nadam', \n",
    "- 'adagrad', 'adadelta', 'adamax',\n",
    "- 'sgd', 'rmsprop',\n",
    "- TFOptimizer.\n",
    "\n",
    "*Loss functions:*\n",
    "\n",
    "- 'mean_squared_error'('mse'), 'mean_absolute_error'('mae'), \n",
    "- 'mean_absolute_percentage_error', 'mean_squared_logarithmic_error',\n",
    "- 'squared_hinge', 'hinge', 'categorical_hinge',\n",
    "- 'categorical_crossentropy', 'sparse_categorical_crossentropy',\n",
    "- 'binary_crossentropy',\n",
    "- 'kullback_leibler_divergence',\n",
    "- 'poisson',\n",
    "- 'cosine_proximity',\n",
    "- 'logcosh'.\n",
    "\n",
    "*Metrics:*\n",
    "\n",
    "- mae, mse, acc,\n",
    "- binary_accuracy, \n",
    "- categorical_accuracy, sparse_categorical_accuracy,\n",
    "- top_k_categorical_accuracy, sparse_top_k_categorical_accuracy.\n",
    "\n",
    "----\n",
    "\n",
    "##### Compilation\n",
    "\n",
    "*For a multi-class classification problem:*\n",
    "\n",
    "- model.compile(optimizer='adam', loss='categorical_crossentropy', metrics=['accuracy'])\n",
    "- model.compile(optimizer='rmsprop', loss='categorical_crossentropy', metrics=['accuracy'])\n",
    "\n",
    "*For a binary classification problem:*\n",
    "\n",
    "- model.compile(optimizer='adam', loss='binary_crossentropy', metrics=['accuracy'])\n",
    "- model.compile(optimizer='rmsprop', loss='binary_crossentropy', metrics=['accuracy'])\n",
    "\n",
    "*For a mean squared error regression problem:*\n",
    "\n",
    "- model.compile(optimizer='rmsprop', loss='mse', metrics=['mae'])\n",
    "- model.compile(optimizer='sgd', loss='mse', metrics=['mae'])\n",
    "----\n",
    "\n",
    "##### Activation\n",
    "*Types:*\n",
    "\n",
    "- 'elu', 'selu', 'relu', 'tanh', 'linear', 'softmax', 'softplus', 'softsign', 'sigmoid', 'hard_sigmoid'\n",
    "- LeakyReLU, PReLU, ELU, ThresholdedReLU\n",
    "\n",
    "*For a multi-class classification problem:*\n",
    "\n",
    "- 'softmax'\n",
    "\n",
    "*For a binary classification problem:*\n",
    "\n",
    "- 'sigmoid'\n",
    "\n",
    "*For a mean squared error regression problem:*\n",
    "\n",
    "- 'linear'"
   ]
  },
  {
   "cell_type": "markdown",
   "metadata": {},
   "source": [
    "##### Layers\n",
    "\n",
    "- *Core Layers*\n",
    "  - `InputLayer` holds the input tensor (for example, the pixel values of the image with width 32, height 32, and 3 color channels).\n",
    "  - `Dense` (fully connected) layers compute the class scores, resulting in volume of size. For example, the size [11] corresponds to class scores, such as 10 digits and 1 empty place. Each neuron in these layers are connected to all the numbers in the previous volume.\n",
    "  - `Dropout` layers consist in randomly setting a fraction rate of input units to 0 at each update during training time, which helps prevent overfitting. This leaves the size of the volume unchanged.\n",
    "\n",
    "- *Convolutional Layers*\n",
    "\n",
    "- *Recurrent Layers*\n",
    "\n",
    "- *Pooling Layers*\n",
    "\n",
    "- *Advanced Activations Layers*\n",
    "\n",
    "- etc."
   ]
  },
  {
   "cell_type": "code",
   "execution_count": 90,
   "metadata": {
    "collapsed": false
   },
   "outputs": [],
   "source": [
    "# the basic example (binary classification)\n",
    "basic_model = Sequential([Dense(16, input_dim=2), Activation('relu'), Dense(1), Activation('sigmoid')])\n",
    "basic_model.compile(optimizer='adam', loss='binary_crossentropy', metrics=['accuracy'])"
   ]
  },
  {
   "cell_type": "code",
   "execution_count": 91,
   "metadata": {
    "collapsed": false
   },
   "outputs": [
    {
     "name": "stdout",
     "output_type": "stream",
     "text": [
      "\r",
      " 32/800 [>.............................] - ETA: 3s"
     ]
    }
   ],
   "source": [
    "# train the model\n",
    "basic_model.fit(x_train5, y_train5, epochs=100, batch_size=8, verbose=0)\n",
    "# predict classes\n",
    "y_train5_predictions = basic_model.predict_classes(x_train5)"
   ]
  },
  {
   "cell_type": "code",
   "execution_count": 92,
   "metadata": {
    "collapsed": false
   },
   "outputs": [
    {
     "data": {
      "text/plain": [
       "<matplotlib.collections.PathCollection at 0x1509defd0>"
      ]
     },
     "execution_count": 92,
     "metadata": {},
     "output_type": "execute_result"
    },
    {
     "data": {
      "image/png": "[encoded data removed]",
      "text/plain": [
       "<matplotlib.figure.Figure at 0x151b80cf8>"
      ]
     },
     "metadata": {},
     "output_type": "display_data"
    }
   ],
   "source": [
    "plt.figure(figsize=(18,2))\n",
    "plt.scatter(range(100), y_train5[:100], s=100)\n",
    "plt.scatter(range(100), y_train5_predictions[:100], s=25)"
   ]
  },
  {
   "cell_type": "code",
   "execution_count": 93,
   "metadata": {
    "collapsed": false
   },
   "outputs": [
    {
     "name": "stdout",
     "output_type": "stream",
     "text": [
      "200/200 [==============================] - 0s\n"
     ]
    },
    {
     "data": {
      "text/plain": [
       "[0.24364723265171051, 0.91500002145767212]"
      ]
     },
     "execution_count": 93,
     "metadata": {},
     "output_type": "execute_result"
    }
   ],
   "source": [
    "# model performance\n",
    "basic_score = basic_model.evaluate(x_test5, y_test5, batch_size=200)\n",
    "basic_score"
   ]
  },
  {
   "cell_type": "code",
   "execution_count": 100,
   "metadata": {
    "collapsed": false
   },
   "outputs": [
    {
     "data": {
      "text/plain": [
       "<tf.Tensor 'dense_8_input:0' shape=(?, 2) dtype=float32>"
      ]
     },
     "execution_count": 100,
     "metadata": {},
     "output_type": "execute_result"
    }
   ],
   "source": [
    "basic_model.input"
   ]
  },
  {
   "cell_type": "code",
   "execution_count": 94,
   "metadata": {
    "collapsed": false
   },
   "outputs": [
    {
     "data": {
      "text/plain": [
       "(None, 1)"
      ]
     },
     "execution_count": 94,
     "metadata": {},
     "output_type": "execute_result"
    }
   ],
   "source": [
    "# model parameters\n",
    "basic_model.output_shape"
   ]
  },
  {
   "cell_type": "code",
   "execution_count": 95,
   "metadata": {
    "collapsed": false
   },
   "outputs": [
    {
     "name": "stdout",
     "output_type": "stream",
     "text": [
      "_________________________________________________________________\n",
      "Layer (type)                 Output Shape              Param #   \n",
      "=================================================================\n",
      "dense_8 (Dense)              (None, 16)                48        \n",
      "_________________________________________________________________\n",
      "activation_5 (Activation)    (None, 16)                0         \n",
      "_________________________________________________________________\n",
      "dense_9 (Dense)              (None, 1)                 17        \n",
      "_________________________________________________________________\n",
      "activation_6 (Activation)    (None, 1)                 0         \n",
      "=================================================================\n",
      "Total params: 65\n",
      "Trainable params: 65\n",
      "Non-trainable params: 0\n",
      "_________________________________________________________________\n"
     ]
    }
   ],
   "source": [
    "basic_model.summary()"
   ]
  },
  {
   "cell_type": "code",
   "execution_count": 37,
   "metadata": {
    "collapsed": false
   },
   "outputs": [
    {
     "data": {
      "text/plain": [
       "[{'class_name': 'Dense',\n",
       "  'config': {'activation': 'linear',\n",
       "   'activity_regularizer': None,\n",
       "   'batch_input_shape': (None, 2),\n",
       "   'bias_constraint': None,\n",
       "   'bias_initializer': {'class_name': 'Zeros', 'config': {}},\n",
       "   'bias_regularizer': None,\n",
       "   'dtype': 'float32',\n",
       "   'kernel_constraint': None,\n",
       "   'kernel_initializer': {'class_name': 'VarianceScaling',\n",
       "    'config': {'distribution': 'uniform',\n",
       "     'mode': 'fan_avg',\n",
       "     'scale': 1.0,\n",
       "     'seed': None}},\n",
       "   'kernel_regularizer': None,\n",
       "   'name': 'dense_1',\n",
       "   'trainable': True,\n",
       "   'units': 16,\n",
       "   'use_bias': True}},\n",
       " {'class_name': 'Activation',\n",
       "  'config': {'activation': 'relu', 'name': 'activation_1', 'trainable': True}},\n",
       " {'class_name': 'Dense',\n",
       "  'config': {'activation': 'linear',\n",
       "   'activity_regularizer': None,\n",
       "   'bias_constraint': None,\n",
       "   'bias_initializer': {'class_name': 'Zeros', 'config': {}},\n",
       "   'bias_regularizer': None,\n",
       "   'kernel_constraint': None,\n",
       "   'kernel_initializer': {'class_name': 'VarianceScaling',\n",
       "    'config': {'distribution': 'uniform',\n",
       "     'mode': 'fan_avg',\n",
       "     'scale': 1.0,\n",
       "     'seed': None}},\n",
       "   'kernel_regularizer': None,\n",
       "   'name': 'dense_2',\n",
       "   'trainable': True,\n",
       "   'units': 1,\n",
       "   'use_bias': True}},\n",
       " {'class_name': 'Activation',\n",
       "  'config': {'activation': 'sigmoid',\n",
       "   'name': 'activation_2',\n",
       "   'trainable': True}}]"
      ]
     },
     "execution_count": 37,
     "metadata": {},
     "output_type": "execute_result"
    }
   ],
   "source": [
    "basic_model.get_config()"
   ]
  },
  {
   "cell_type": "code",
   "execution_count": 38,
   "metadata": {
    "collapsed": false
   },
   "outputs": [
    {
     "data": {
      "text/plain": [
       "[array([[  1.14978336e-01,   7.39151657e-01,   8.99032652e-01,\n",
       "          -4.09542531e-01,   2.94106930e-01,  -6.02361798e-01,\n",
       "          -9.98931348e-01,   2.70938009e-01,   1.05026588e-01,\n",
       "          -1.16227198e+00,   7.75431618e-02,   1.34546685e+00,\n",
       "          -1.03746915e+00,   3.16040725e-01,   2.81929284e-01,\n",
       "           2.78562188e-01],\n",
       "        [  1.34679750e-02,   2.77109087e-01,  -2.04192415e-01,\n",
       "          -7.06686005e-02,  -8.58266652e-01,  -1.86535895e-01,\n",
       "          -1.45975918e-01,  -7.88411856e-01,  -6.93671405e-01,\n",
       "          -1.35490566e-01,  -2.59572752e-02,   8.38673472e-01,\n",
       "          -7.96192850e-04,  -7.27614462e-01,  -8.60509276e-01,\n",
       "          -5.84445179e-01]], dtype=float32),\n",
       " array([-0.31007668,  0.46153256,  0.25092241,  0.0848698 , -0.55428195,\n",
       "        -0.41392341,  0.12107806, -0.50938773,  0.58691829,  0.17274301,\n",
       "        -0.23441315,  0.43898273,  0.13511349, -0.45502594, -0.55872577,\n",
       "        -0.34929979], dtype=float32),\n",
       " array([[-0.07738546],\n",
       "        [ 1.12894392],\n",
       "        [-0.88024896],\n",
       "        [-0.3929022 ],\n",
       "        [ 1.31902337],\n",
       "        [ 1.0994848 ],\n",
       "        [-0.85152388],\n",
       "        [ 0.78481257],\n",
       "        [-0.77174503],\n",
       "        [-0.53749883],\n",
       "        [-0.33091307],\n",
       "        [ 1.4856832 ],\n",
       "        [-0.75596339],\n",
       "        [ 0.39134163],\n",
       "        [ 1.01538587],\n",
       "        [ 0.93966812]], dtype=float32),\n",
       " array([ 0.05110814], dtype=float32)]"
      ]
     },
     "execution_count": 38,
     "metadata": {},
     "output_type": "execute_result"
    }
   ],
   "source": [
    "basic_model.get_weights() "
   ]
  },
  {
   "cell_type": "code",
   "execution_count": 39,
   "metadata": {
    "collapsed": false
   },
   "outputs": [],
   "source": [
    "# optimization\n",
    "\n",
    "opt = keras.optimizers.rmsprop(lr=0.001, decay=1e-5)\n",
    "opt2 = keras.optimizers.SGD(lr=0.001, decay=1e-5, momentum=0.9, nesterov=True)\n",
    "\n",
    "basic_model2 = Sequential([Dense(16, input_dim=2), Activation('relu'), Dense(1), Activation('sigmoid')])\n",
    "basic_model2.compile(optimizer=opt2, loss='binary_crossentropy', metrics=['accuracy'])"
   ]
  },
  {
   "cell_type": "code",
   "execution_count": 40,
   "metadata": {
    "collapsed": false
   },
   "outputs": [
    {
     "name": "stdout",
     "output_type": "stream",
     "text": [
      "200/200 [==============================] - 0s\n"
     ]
    },
    {
     "data": {
      "text/plain": [
       "[0.26740479469299316, 0.90499997138977051]"
      ]
     },
     "execution_count": 40,
     "metadata": {},
     "output_type": "execute_result"
    }
   ],
   "source": [
    "basic_model2.fit(x_train5, y_train5, batch_size=8, epochs=100, verbose=0) \n",
    "\n",
    "basic_score2 = basic_model2.evaluate(x_test5, y_test5, batch_size=200)\n",
    "basic_score2"
   ]
  },
  {
   "cell_type": "code",
   "execution_count": 41,
   "metadata": {
    "collapsed": false
   },
   "outputs": [],
   "source": [
    "# advanced activation\n",
    "\n",
    "# encoder\n",
    "inp = Input(shape=(2,))\n",
    "act = PReLU(alpha_initializer='zeros')\n",
    "lay = Dense(16, kernel_initializer='uniform', name='encoder')(inp)\n",
    "lay = act(lay)\n",
    "\n",
    "# decoder\n",
    "out = Dense(1, kernel_initializer='uniform', activation='sigmoid', name='decoder')(lay)\n",
    "\n",
    "# model\n",
    "basic_model3 = Model(inputs=inp, outputs=out, name='cae')\n",
    "basic_model3.compile(optimizer='adam', loss='binary_crossentropy', metrics=['accuracy'])"
   ]
  },
  {
   "cell_type": "code",
   "execution_count": 42,
   "metadata": {
    "collapsed": false
   },
   "outputs": [
    {
     "name": "stdout",
     "output_type": "stream",
     "text": [
      "200/200 [==============================] - 0s\n"
     ]
    },
    {
     "data": {
      "text/plain": [
       "[0.25488775968551636, 0.9100000262260437]"
      ]
     },
     "execution_count": 42,
     "metadata": {},
     "output_type": "execute_result"
    }
   ],
   "source": [
    "basic_model3.fit(x_train5, y_train5, epochs=100, batch_size=8, verbose=0)\n",
    "basic_model3.evaluate(x_test5, y_test5, batch_size=200)"
   ]
  },
  {
   "cell_type": "code",
   "execution_count": 43,
   "metadata": {
    "collapsed": true
   },
   "outputs": [],
   "source": [
    "# save/reload models\n",
    "basic_model.save('basic_model_file.h5')\n",
    "my_basic_model = load_model('basic_model_file.h5')"
   ]
  },
  {
   "cell_type": "markdown",
   "metadata": {},
   "source": [
    "## 5. Neural Networks\n",
    "### 5.1 Multi-layer Perceptron"
   ]
  },
  {
   "cell_type": "code",
   "execution_count": 44,
   "metadata": {
    "collapsed": true
   },
   "outputs": [],
   "source": [
    "# MLP: Binary Classification\n",
    "def mlp_bc_model():\n",
    "    model = Sequential()\n",
    "    \n",
    "    model.add(Dense(8, input_dim=2, kernel_initializer='uniform', activation='relu'))\n",
    "    model.add(Dense(16,kernel_initializer='uniform',activation='relu'))\n",
    "    \n",
    "    model.add(Dense(1,kernel_initializer='uniform',activation='sigmoid'))\n",
    "\n",
    "    model.compile(optimizer='adam', loss='binary_crossentropy', metrics=['accuracy'])\n",
    "    return model"
   ]
  },
  {
   "cell_type": "code",
   "execution_count": 45,
   "metadata": {
    "collapsed": false
   },
   "outputs": [
    {
     "name": "stdout",
     "output_type": "stream",
     "text": [
      " 32/200 [===>..........................] - ETA: 0s"
     ]
    }
   ],
   "source": [
    "mlp_bc_model = mlp_bc_model()\n",
    "mlp_bc_model.fit(x_train5, y_train5, epochs=10, batch_size=8, verbose=0)\n",
    "y_train5_mlp_predictions = mlp_bc_model.predict_classes(x_train5)\n",
    "y_test5_mlp_predictions = mlp_bc_model.predict_classes(x_test5)"
   ]
  },
  {
   "cell_type": "code",
   "execution_count": 46,
   "metadata": {
    "collapsed": false
   },
   "outputs": [
    {
     "data": {
      "text/plain": [
       "<matplotlib.collections.PathCollection at 0x1244b8940>"
      ]
     },
     "execution_count": 46,
     "metadata": {},
     "output_type": "execute_result"
    },
    {
     "data": {
      "image/png": "[encoded data removed]",
      "text/plain": [
       "<matplotlib.figure.Figure at 0x124292b38>"
      ]
     },
     "metadata": {},
     "output_type": "display_data"
    }
   ],
   "source": [
    "plt.figure(figsize=(18,2))\n",
    "plt.scatter(range(100), y_test5[:100], s=100)\n",
    "plt.scatter(range(100), y_test5_mlp_predictions[:100], s=25)"
   ]
  },
  {
   "cell_type": "code",
   "execution_count": 47,
   "metadata": {
    "collapsed": false
   },
   "outputs": [
    {
     "name": "stdout",
     "output_type": "stream",
     "text": [
      "\r",
      " 32/200 [===>..........................] - ETA: 0s"
     ]
    },
    {
     "data": {
      "text/plain": [
       "[0.27518221259117126, 0.90500000000000003]"
      ]
     },
     "execution_count": 47,
     "metadata": {},
     "output_type": "execute_result"
    }
   ],
   "source": [
    "mlp_bc_test_score = mlp_bc_model.evaluate(x_test5, y_test5)\n",
    "mlp_bc_test_score"
   ]
  },
  {
   "cell_type": "code",
   "execution_count": 15,
   "metadata": {
    "collapsed": true
   },
   "outputs": [],
   "source": [
    "# MLP: Multi-Class Classification\n",
    "def mlp_mc_model():\n",
    "    model = Sequential()\n",
    "    \n",
    "    model.add(Dense(196,activation='relu',input_shape=(784,)))\n",
    "    model.add(Dropout(0.2))\n",
    "    \n",
    "    model.add(Dense(784,activation='relu'))\n",
    "    model.add(Dropout(0.2))\n",
    "    \n",
    "    model.add(Dense(10,activation='softmax'))\n",
    "\n",
    "    model.compile(optimizer='adam', loss='categorical_crossentropy', metrics=['accuracy'])\n",
    "    return model"
   ]
  },
  {
   "cell_type": "code",
   "execution_count": null,
   "metadata": {
    "collapsed": true
   },
   "outputs": [],
   "source": [
    "mlp_mc_model = mlp_mc_model()\n",
    "mlp_mc_model.fit(x_train2, y_train2, epochs=10, batch_size=8, verbose=0)\n",
    "y_train2_mlp_predictions = mlp_mc_model.predict_classes(x_train2)\n",
    "y_test2_mlp_predictions = mlp_mc_model.predict_classes(x_test2)"
   ]
  },
  {
   "cell_type": "code",
   "execution_count": null,
   "metadata": {
    "collapsed": true
   },
   "outputs": [],
   "source": [
    "plt.figure(figsize=(18,2))\n",
    "plt.scatter(range(100), y_test5[:100], s=100)\n",
    "plt.scatter(range(100), y_test5_mlp_predictions[:100], s=25)"
   ]
  },
  {
   "cell_type": "code",
   "execution_count": null,
   "metadata": {
    "collapsed": true
   },
   "outputs": [],
   "source": []
  },
  {
   "cell_type": "markdown",
   "metadata": {
    "collapsed": true
   },
   "source": [
    "### 5.2 Convolutional Neural Network (CNN)"
   ]
  },
  {
   "cell_type": "code",
   "execution_count": null,
   "metadata": {
    "collapsed": true
   },
   "outputs": [],
   "source": []
  },
  {
   "cell_type": "code",
   "execution_count": null,
   "metadata": {
    "collapsed": true
   },
   "outputs": [],
   "source": []
  },
  {
   "cell_type": "markdown",
   "metadata": {},
   "source": [
    "### 5.3 Recurrent Neural Network (RNN)"
   ]
  },
  {
   "cell_type": "code",
   "execution_count": null,
   "metadata": {
    "collapsed": true
   },
   "outputs": [],
   "source": []
  },
  {
   "cell_type": "code",
   "execution_count": null,
   "metadata": {
    "collapsed": true
   },
   "outputs": [],
   "source": []
  }
 ],
 "metadata": {
  "hide_input": false,
  "kernelspec": {
   "display_name": "Python 3",
   "language": "python",
   "name": "python3"
  },
  "language_info": {
   "codemirror_mode": {
    "name": "ipython",
    "version": 3
   },
   "file_extension": ".py",
   "mimetype": "text/x-python",
   "name": "python",
   "nbconvert_exporter": "python",
   "pygments_lexer": "ipython3",
   "version": "3.6.1"
  },
  "latex_envs": {
   "bibliofile": "biblio.bib",
   "cite_by": "apalike",
   "current_citInitial": 1,
   "eqLabelWithNumbers": true,
   "eqNumInitial": 0
  }
 },
 "nbformat": 4,
 "nbformat_minor": 2
}
