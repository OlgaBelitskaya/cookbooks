{
 "cells": [
  {
   "cell_type": "code",
   "execution_count": 1,
   "metadata": {
    "_cell_guid": "b1076dfc-b9ad-4769-8c92-a6c4dae69d19",
    "_kg_hide-input": true,
    "_uuid": "8f2839f25d086af736a60e9eeb907d3b93b6e0e5",
    "execution": {
     "iopub.execute_input": "2020-10-06T15:37:20.447714Z",
     "iopub.status.busy": "2020-10-06T15:37:20.446886Z",
     "iopub.status.idle": "2020-10-06T15:37:20.456904Z",
     "shell.execute_reply": "2020-10-06T15:37:20.457521Z"
    },
    "papermill": {
     "duration": 0.026829,
     "end_time": "2020-10-06T15:37:20.457724",
     "exception": false,
     "start_time": "2020-10-06T15:37:20.430895",
     "status": "completed"
    },
    "tags": []
   },
   "outputs": [
    {
     "data": {
      "text/html": [
       "<style>\n",
       "    @import 'https://fonts.googleapis.com/css?family=Akronim&effect=3d-float';</style>\n",
       "    <h1 class='font-effect-3d-float' \n",
       "    style='font-family:Akronim; color:#66FF66; font-size:30px;'>\n",
       "    HTML Files Embedding</h1>"
      ],
      "text/plain": [
       "<IPython.core.display.HTML object>"
      ]
     },
     "metadata": {},
     "output_type": "display_data"
    }
   ],
   "source": [
    "%run ../input/python-recipes/dhtml.py\n",
    "dhtml('HTML Files Embedding',c7,f2,fs8)"
   ]
  },
  {
   "cell_type": "code",
   "execution_count": 2,
   "metadata": {
    "execution": {
     "iopub.execute_input": "2020-10-06T15:37:20.482541Z",
     "iopub.status.busy": "2020-10-06T15:37:20.481720Z",
     "iopub.status.idle": "2020-10-06T15:37:20.489346Z",
     "shell.execute_reply": "2020-10-06T15:37:20.488540Z"
    },
    "papermill": {
     "duration": 0.021577,
     "end_time": "2020-10-06T15:37:20.489480",
     "exception": false,
     "start_time": "2020-10-06T15:37:20.467903",
     "status": "completed"
    },
    "tags": []
   },
   "outputs": [
    {
     "data": {
      "text/plain": [
       "['graph.html',\n",
       " 'font_color.html',\n",
       " 'animated_button.html',\n",
       " 'interactive_polar_plotting.html',\n",
       " 'circle_mouse.html',\n",
       " 'font_line.html',\n",
       " 'butterfly_function.html',\n",
       " 'canvas_draw.html']"
      ]
     },
     "execution_count": 2,
     "metadata": {},
     "output_type": "execute_result"
    }
   ],
   "source": [
    "import os\n",
    "file_path='../input/html-recipes/'\n",
    "os.listdir(file_path)"
   ]
  },
  {
   "cell_type": "code",
   "execution_count": 3,
   "metadata": {
    "execution": {
     "iopub.execute_input": "2020-10-06T15:37:20.517527Z",
     "iopub.status.busy": "2020-10-06T15:37:20.516576Z",
     "iopub.status.idle": "2020-10-06T15:37:20.524453Z",
     "shell.execute_reply": "2020-10-06T15:37:20.523666Z"
    },
    "papermill": {
     "duration": 0.025097,
     "end_time": "2020-10-06T15:37:20.524596",
     "exception": false,
     "start_time": "2020-10-06T15:37:20.499499",
     "status": "completed"
    },
    "tags": []
   },
   "outputs": [
    {
     "data": {
      "text/html": [
       "<div id='data'><iframe src=\"animated_button.html \" height=\"100\" width=\"400\"></iframe></div>"
      ],
      "text/plain": [
       "<IPython.core.display.HTML object>"
      ]
     },
     "execution_count": 3,
     "metadata": {},
     "output_type": "execute_result"
    }
   ],
   "source": [
    "file1='animated_button.html'\n",
    "with open(file_path+file1,'rb')as inputf:\n",
    "    with open(file1,'wb')as outputf:\n",
    "        outputf.write(inputf.read())\n",
    "        outputf.close()\n",
    "    inputf.close()\n",
    "HTML('''<div id='data'><iframe src=\"'''+file1+\\\n",
    "     ''' \" height=\"100\" width=\"400\"></iframe></div>''')"
   ]
  },
  {
   "cell_type": "code",
   "execution_count": 4,
   "metadata": {
    "execution": {
     "iopub.execute_input": "2020-10-06T15:37:20.557646Z",
     "iopub.status.busy": "2020-10-06T15:37:20.556503Z",
     "iopub.status.idle": "2020-10-06T15:37:20.567507Z",
     "shell.execute_reply": "2020-10-06T15:37:20.566674Z"
    },
    "papermill": {
     "duration": 0.032371,
     "end_time": "2020-10-06T15:37:20.567653",
     "exception": false,
     "start_time": "2020-10-06T15:37:20.535282",
     "status": "completed"
    },
    "tags": []
   },
   "outputs": [
    {
     "data": {
      "text/html": [
       "<div id=\"html_string1\"><iframe src=\"file1.html\" height=500 width=500></iframe></div>"
      ],
      "text/plain": [
       "<IPython.core.display.HTML object>"
      ]
     },
     "metadata": {},
     "output_type": "display_data"
    }
   ],
   "source": [
    "%run ../input/python-recipes/embedding_html_string.py\n",
    "file2='circle_mouse.html'\n",
    "with open(file_path+file2,'r') as f:\n",
    "    html_string=f.read()\n",
    "    f.close()\n",
    "embedding_html_string(html_string,500,500,1)"
   ]
  },
  {
   "cell_type": "code",
   "execution_count": 5,
   "metadata": {
    "_kg_hide-input": true,
    "execution": {
     "iopub.execute_input": "2020-10-06T15:37:20.604085Z",
     "iopub.status.busy": "2020-10-06T15:37:20.601819Z",
     "iopub.status.idle": "2020-10-06T15:37:20.610265Z",
     "shell.execute_reply": "2020-10-06T15:37:20.609363Z"
    },
    "papermill": {
     "duration": 0.030808,
     "end_time": "2020-10-06T15:37:20.610455",
     "exception": false,
     "start_time": "2020-10-06T15:37:20.579647",
     "status": "completed"
    },
    "tags": []
   },
   "outputs": [
    {
     "data": {
      "text/html": [
       "\n",
       "<html><head><meta charset='utf-8'><meta name='viewport' content='width=device-width'><script src=\"https://sagecell.sagemath.org/static/embedded_sagecell.js\"></script><script>$(function(){ sagecell.makeSagecell({inputLocation:'#cell1',template:sagecell.templates.minimal,evalButtonText:'run'}); });</script></head><style>.sagecell .CodeMirror-scroll {min-height:3em; max-height:30em; } </style><body>$\\large{\\mathbb{Interactive \\; Polar \\; Plotting}}$<p>Click the $\\large{\\mathbb{run}}$ button to display an example.</p><pre style='border:1px double #aaa;'><code> c=list(colors.keys()); f(x,t)=sin(5*x)^2+0.02*t\n",
       " @interact\n",
       " def _(number=[20,28,..,len(c)]):\n",
       "     p=sum([polar_plot(f(x,i),(x,0,2*pi),plot_points=30,\n",
       "                       thickness=1,color=c[i-1]) \n",
       "            for i in [1..number]])\n",
       "    p.show(figsize=(5,5),gridlines=True) \n",
       "</pre></code><br/><div id='cell1'><script type='text/x-sage'>c=list(colors.keys()); f(x,t)=sin(5*x)^2+0.02*t \n",
       "@interact\n",
       "def _(number=[20,28,..,len(c)]):\n",
       "    p=sum([polar_plot(f(x,i),(x,0,2*pi),plot_points=30,\n",
       "                      thickness=1,color=c[i-1]) \n",
       "           for i in [1..number]])\n",
       "    p.show(figsize=(5,5),gridlines=True)</script></div></body></html>"
      ],
      "text/plain": [
       "<IPython.core.display.HTML object>"
      ]
     },
     "execution_count": 5,
     "metadata": {},
     "output_type": "execute_result"
    }
   ],
   "source": [
    "from IPython.display import HTML\n",
    "file3='interactive_polar_plotting.html'\n",
    "html_str=\"\"\"\n",
    "<html><head><meta charset='utf-8'><meta name='viewport' content='width=device-width'>\"\"\"+\\\n",
    "\"\"\"<script src=\"https://sagecell.sagemath.org/static/embedded_sagecell.js\"></script>\"\"\"+\\\n",
    "\"\"\"<script>$(function(){ sagecell.makeSagecell({\"\"\"+\\\n",
    "\"\"\"inputLocation:'#cell1',template:sagecell.templates.minimal,\"\"\"+\\\n",
    "\"\"\"evalButtonText:'run'}); });</script></head><style>\"\"\"+\\\n",
    "\"\"\".sagecell .CodeMirror-scroll {min-height:3em; max-height:30em; } \"\"\"+\\\n",
    "\"\"\"</style><body>$\\large{\\mathbb{Interactive \\; Polar \\; Plotting}}$\"\"\"+\\\n",
    "\"\"\"<p>Click the $\\large{\\mathbb{run}}$ button to display an example.</p>\"\"\"+\\\n",
    "\"\"\"<pre style='border:1px double #aaa;'><code>\"\"\"+\\\n",
    "\"\"\" c=list(colors.keys()); f(x,t)=sin(5*x)^2+0.02*t\"\"\"+\\\n",
    "\"\"\"\\n @interact\"\"\"+\\\n",
    "\"\"\"\\n def _(number=[20,28,..,len(c)]):\"\"\"+\\\n",
    "\"\"\"\\n     p=sum([polar_plot(f(x,i),(x,0,2*pi),plot_points=30,\"\"\"+\\\n",
    "\"\"\"\\n                       thickness=1,color=c[i-1]) \"\"\"+\\\n",
    "\"\"\"\\n            for i in [1..number]])\"\"\"+\\\n",
    "\"\"\"\\n    p.show(figsize=(5,5),gridlines=True) \\n\"\"\"+\\\n",
    "\"\"\"</pre></code><br/>\"\"\"+\\\n",
    "\"\"\"<div id='cell1'><script type='text/x-sage'>\"\"\"+\\\n",
    "\"\"\"c=list(colors.keys()); f(x,t)=sin(5*x)^2+0.02*t \\n@interact\"\"\"+\\\n",
    "\"\"\"\\ndef _(number=[20,28,..,len(c)]):\"\"\"+\\\n",
    "\"\"\"\\n    p=sum([polar_plot(f(x,i),(x,0,2*pi),plot_points=30,\"\"\"+\\\n",
    "\"\"\"\\n                      thickness=1,color=c[i-1]) \"\"\"+\\\n",
    "\"\"\"\\n           for i in [1..number]])\"\"\"+\\\n",
    "\"\"\"\\n    p.show(figsize=(5,5),gridlines=True)\"\"\"+\\\n",
    "\"\"\"</script></div></body></html>\"\"\"\n",
    "HTML(html_str)"
   ]
  },
  {
   "cell_type": "code",
   "execution_count": 6,
   "metadata": {
    "_kg_hide-input": true,
    "execution": {
     "iopub.execute_input": "2020-10-06T15:37:20.642671Z",
     "iopub.status.busy": "2020-10-06T15:37:20.641620Z",
     "iopub.status.idle": "2020-10-06T15:37:20.646622Z",
     "shell.execute_reply": "2020-10-06T15:37:20.647207Z"
    },
    "papermill": {
     "duration": 0.02431,
     "end_time": "2020-10-06T15:37:20.647408",
     "exception": false,
     "start_time": "2020-10-06T15:37:20.623098",
     "status": "completed"
    },
    "tags": []
   },
   "outputs": [
    {
     "data": {
      "text/html": [
       "<style>\n",
       "    @import 'https://fonts.googleapis.com/css?family=Akronim&effect=3d-float';</style>\n",
       "    <h1 class='font-effect-3d-float' \n",
       "    style='font-family:Akronim; color:#66FF66; font-size:30px;'>\n",
       "    Python Files Embedding</h1>"
      ],
      "text/plain": [
       "<IPython.core.display.HTML object>"
      ]
     },
     "metadata": {},
     "output_type": "display_data"
    }
   ],
   "source": [
    "dhtml('Python Files Embedding',c7,f2,fs8)"
   ]
  },
  {
   "cell_type": "code",
   "execution_count": 7,
   "metadata": {
    "execution": {
     "iopub.execute_input": "2020-10-06T15:37:20.682675Z",
     "iopub.status.busy": "2020-10-06T15:37:20.681641Z",
     "iopub.status.idle": "2020-10-06T15:37:22.247239Z",
     "shell.execute_reply": "2020-10-06T15:37:22.248012Z"
    },
    "papermill": {
     "duration": 1.587518,
     "end_time": "2020-10-06T15:37:22.248304",
     "exception": false,
     "start_time": "2020-10-06T15:37:20.660786",
     "status": "completed"
    },
    "tags": []
   },
   "outputs": [
    {
     "data": {
      "image/png": "[encoded data removed]",
      "text/plain": [
       "<Figure size 504x360 with 1 Axes>"
      ]
     },
     "metadata": {},
     "output_type": "display_data"
    }
   ],
   "source": [
    "%run ../input/python-recipes/multidigraph.py\n",
    "multidigraph_example()"
   ]
  },
  {
   "cell_type": "code",
   "execution_count": 8,
   "metadata": {
    "execution": {
     "iopub.execute_input": "2020-10-06T15:37:22.296386Z",
     "iopub.status.busy": "2020-10-06T15:37:22.295317Z",
     "iopub.status.idle": "2020-10-06T15:37:22.517515Z",
     "shell.execute_reply": "2020-10-06T15:37:22.516633Z"
    },
    "papermill": {
     "duration": 0.253769,
     "end_time": "2020-10-06T15:37:22.517668",
     "exception": false,
     "start_time": "2020-10-06T15:37:22.263899",
     "status": "completed"
    },
    "tags": []
   },
   "outputs": [
    {
     "data": {
      "image/png": "[encoded data removed]",
      "text/plain": [
       "<Figure size 504x360 with 1 Axes>"
      ]
     },
     "metadata": {},
     "output_type": "display_data"
    }
   ],
   "source": [
    "multidigraph(\n",
    "    [('1','2'),('2','3'),('3','7'),\n",
    "    ('4','1'),('5','2'),('6','7')],\n",
    "     5,'forestgreen')"
   ]
  },
  {
   "cell_type": "code",
   "execution_count": 9,
   "metadata": {
    "execution": {
     "iopub.execute_input": "2020-10-06T15:37:22.559371Z",
     "iopub.status.busy": "2020-10-06T15:37:22.558505Z",
     "iopub.status.idle": "2020-10-06T15:37:22.775180Z",
     "shell.execute_reply": "2020-10-06T15:37:22.774522Z"
    },
    "papermill": {
     "duration": 0.240617,
     "end_time": "2020-10-06T15:37:22.775313",
     "exception": false,
     "start_time": "2020-10-06T15:37:22.534696",
     "status": "completed"
    },
    "tags": []
   },
   "outputs": [
    {
     "data": {
      "text/html": [
       "<style  type=\"text/css\" >\n",
       "    #T_d3d37136_07e9_11eb_a733_0242ac130202 th {\n",
       "          color: darkslategray;\n",
       "          font-family: times;\n",
       "          font-size: 300%;\n",
       "          text-shadow: slategray 2px 2px 2px;\n",
       "    }#T_d3d37136_07e9_11eb_a733_0242ac130202row0_col0{\n",
       "            font-size:  130%;\n",
       "            font-family:  times;\n",
       "            text-shadow:  slategray 2px 2px 2px;\n",
       "            background-color:  #bfd6d6;\n",
       "            color:  #000000;\n",
       "        }#T_d3d37136_07e9_11eb_a733_0242ac130202row0_col1,#T_d3d37136_07e9_11eb_a733_0242ac130202row1_col1{\n",
       "            font-size:  130%;\n",
       "            font-family:  times;\n",
       "            text-shadow:  slategray 2px 2px 2px;\n",
       "            background-color:  #3e3e56;\n",
       "            color:  #f1f1f1;\n",
       "        }#T_d3d37136_07e9_11eb_a733_0242ac130202row0_col2,#T_d3d37136_07e9_11eb_a733_0242ac130202row1_col0,#T_d3d37136_07e9_11eb_a733_0242ac130202row4_col4,#T_d3d37136_07e9_11eb_a733_0242ac130202row5_col3,#T_d3d37136_07e9_11eb_a733_0242ac130202row6_col1,#T_d3d37136_07e9_11eb_a733_0242ac130202row6_col5{\n",
       "            font-size:  130%;\n",
       "            font-family:  times;\n",
       "            text-shadow:  slategray 2px 2px 2px;\n",
       "            background-color:  #ffffff;\n",
       "            color:  #000000;\n",
       "        }#T_d3d37136_07e9_11eb_a733_0242ac130202row0_col3{\n",
       "            font-size:  130%;\n",
       "            font-family:  times;\n",
       "            text-shadow:  slategray 2px 2px 2px;\n",
       "            background-color:  #1d1d28;\n",
       "            color:  #f1f1f1;\n",
       "        }#T_d3d37136_07e9_11eb_a733_0242ac130202row0_col4,#T_d3d37136_07e9_11eb_a733_0242ac130202row2_col5,#T_d3d37136_07e9_11eb_a733_0242ac130202row3_col0,#T_d3d37136_07e9_11eb_a733_0242ac130202row3_col1,#T_d3d37136_07e9_11eb_a733_0242ac130202row3_col3,#T_d3d37136_07e9_11eb_a733_0242ac130202row7_col2{\n",
       "            font-size:  130%;\n",
       "            font-family:  times;\n",
       "            text-shadow:  slategray 2px 2px 2px;\n",
       "            background-color:  #000000;\n",
       "            color:  #f1f1f1;\n",
       "        }#T_d3d37136_07e9_11eb_a733_0242ac130202row0_col5{\n",
       "            font-size:  130%;\n",
       "            font-family:  times;\n",
       "            text-shadow:  slategray 2px 2px 2px;\n",
       "            background-color:  #e9f1f1;\n",
       "            color:  #000000;\n",
       "        }#T_d3d37136_07e9_11eb_a733_0242ac130202row1_col2{\n",
       "            font-size:  130%;\n",
       "            font-family:  times;\n",
       "            text-shadow:  slategray 2px 2px 2px;\n",
       "            background-color:  #272737;\n",
       "            color:  #f1f1f1;\n",
       "        }#T_d3d37136_07e9_11eb_a733_0242ac130202row1_col3{\n",
       "            font-size:  130%;\n",
       "            font-family:  times;\n",
       "            text-shadow:  slategray 2px 2px 2px;\n",
       "            background-color:  #040406;\n",
       "            color:  #f1f1f1;\n",
       "        }#T_d3d37136_07e9_11eb_a733_0242ac130202row1_col4{\n",
       "            font-size:  130%;\n",
       "            font-family:  times;\n",
       "            text-shadow:  slategray 2px 2px 2px;\n",
       "            background-color:  #676f87;\n",
       "            color:  #000000;\n",
       "        }#T_d3d37136_07e9_11eb_a733_0242ac130202row1_col5{\n",
       "            font-size:  130%;\n",
       "            font-family:  times;\n",
       "            text-shadow:  slategray 2px 2px 2px;\n",
       "            background-color:  #44445f;\n",
       "            color:  #f1f1f1;\n",
       "        }#T_d3d37136_07e9_11eb_a733_0242ac130202row2_col0{\n",
       "            font-size:  130%;\n",
       "            font-family:  times;\n",
       "            text-shadow:  slategray 2px 2px 2px;\n",
       "            background-color:  #5e637e;\n",
       "            color:  #f1f1f1;\n",
       "        }#T_d3d37136_07e9_11eb_a733_0242ac130202row2_col1{\n",
       "            font-size:  130%;\n",
       "            font-family:  times;\n",
       "            text-shadow:  slategray 2px 2px 2px;\n",
       "            background-color:  #42425b;\n",
       "            color:  #f1f1f1;\n",
       "        }#T_d3d37136_07e9_11eb_a733_0242ac130202row2_col2{\n",
       "            font-size:  130%;\n",
       "            font-family:  times;\n",
       "            text-shadow:  slategray 2px 2px 2px;\n",
       "            background-color:  #5c607c;\n",
       "            color:  #f1f1f1;\n",
       "        }#T_d3d37136_07e9_11eb_a733_0242ac130202row2_col3{\n",
       "            font-size:  130%;\n",
       "            font-family:  times;\n",
       "            text-shadow:  slategray 2px 2px 2px;\n",
       "            background-color:  #0a0a0f;\n",
       "            color:  #f1f1f1;\n",
       "        }#T_d3d37136_07e9_11eb_a733_0242ac130202row2_col4{\n",
       "            font-size:  130%;\n",
       "            font-family:  times;\n",
       "            text-shadow:  slategray 2px 2px 2px;\n",
       "            background-color:  #1f1f2b;\n",
       "            color:  #f1f1f1;\n",
       "        }#T_d3d37136_07e9_11eb_a733_0242ac130202row3_col2{\n",
       "            font-size:  130%;\n",
       "            font-family:  times;\n",
       "            text-shadow:  slategray 2px 2px 2px;\n",
       "            background-color:  #555675;\n",
       "            color:  #f1f1f1;\n",
       "        }#T_d3d37136_07e9_11eb_a733_0242ac130202row3_col4{\n",
       "            font-size:  130%;\n",
       "            font-family:  times;\n",
       "            text-shadow:  slategray 2px 2px 2px;\n",
       "            background-color:  #636983;\n",
       "            color:  #000000;\n",
       "        }#T_d3d37136_07e9_11eb_a733_0242ac130202row3_col5{\n",
       "            font-size:  130%;\n",
       "            font-family:  times;\n",
       "            text-shadow:  slategray 2px 2px 2px;\n",
       "            background-color:  #a2c0c2;\n",
       "            color:  #000000;\n",
       "        }#T_d3d37136_07e9_11eb_a733_0242ac130202row4_col0{\n",
       "            font-size:  130%;\n",
       "            font-family:  times;\n",
       "            text-shadow:  slategray 2px 2px 2px;\n",
       "            background-color:  #cee0df;\n",
       "            color:  #000000;\n",
       "        }#T_d3d37136_07e9_11eb_a733_0242ac130202row4_col1{\n",
       "            font-size:  130%;\n",
       "            font-family:  times;\n",
       "            text-shadow:  slategray 2px 2px 2px;\n",
       "            background-color:  #6d788d;\n",
       "            color:  #000000;\n",
       "        }#T_d3d37136_07e9_11eb_a733_0242ac130202row4_col2{\n",
       "            font-size:  130%;\n",
       "            font-family:  times;\n",
       "            text-shadow:  slategray 2px 2px 2px;\n",
       "            background-color:  #8aa0aa;\n",
       "            color:  #000000;\n",
       "        }#T_d3d37136_07e9_11eb_a733_0242ac130202row4_col3{\n",
       "            font-size:  130%;\n",
       "            font-family:  times;\n",
       "            text-shadow:  slategray 2px 2px 2px;\n",
       "            background-color:  #768496;\n",
       "            color:  #000000;\n",
       "        }#T_d3d37136_07e9_11eb_a733_0242ac130202row4_col5{\n",
       "            font-size:  130%;\n",
       "            font-family:  times;\n",
       "            text-shadow:  slategray 2px 2px 2px;\n",
       "            background-color:  #dde9e9;\n",
       "            color:  #000000;\n",
       "        }#T_d3d37136_07e9_11eb_a733_0242ac130202row5_col0{\n",
       "            font-size:  130%;\n",
       "            font-family:  times;\n",
       "            text-shadow:  slategray 2px 2px 2px;\n",
       "            background-color:  #b0cccc;\n",
       "            color:  #000000;\n",
       "        }#T_d3d37136_07e9_11eb_a733_0242ac130202row5_col1{\n",
       "            font-size:  130%;\n",
       "            font-family:  times;\n",
       "            text-shadow:  slategray 2px 2px 2px;\n",
       "            background-color:  #1b1b26;\n",
       "            color:  #f1f1f1;\n",
       "        }#T_d3d37136_07e9_11eb_a733_0242ac130202row5_col2{\n",
       "            font-size:  130%;\n",
       "            font-family:  times;\n",
       "            text-shadow:  slategray 2px 2px 2px;\n",
       "            background-color:  #4a4966;\n",
       "            color:  #f1f1f1;\n",
       "        }#T_d3d37136_07e9_11eb_a733_0242ac130202row5_col4{\n",
       "            font-size:  130%;\n",
       "            font-family:  times;\n",
       "            text-shadow:  slategray 2px 2px 2px;\n",
       "            background-color:  #aecbcb;\n",
       "            color:  #000000;\n",
       "        }#T_d3d37136_07e9_11eb_a733_0242ac130202row5_col5{\n",
       "            font-size:  130%;\n",
       "            font-family:  times;\n",
       "            text-shadow:  slategray 2px 2px 2px;\n",
       "            background-color:  #37374d;\n",
       "            color:  #f1f1f1;\n",
       "        }#T_d3d37136_07e9_11eb_a733_0242ac130202row6_col0{\n",
       "            font-size:  130%;\n",
       "            font-family:  times;\n",
       "            text-shadow:  slategray 2px 2px 2px;\n",
       "            background-color:  #cadddd;\n",
       "            color:  #000000;\n",
       "        }#T_d3d37136_07e9_11eb_a733_0242ac130202row6_col2{\n",
       "            font-size:  130%;\n",
       "            font-family:  times;\n",
       "            text-shadow:  slategray 2px 2px 2px;\n",
       "            background-color:  #666e86;\n",
       "            color:  #000000;\n",
       "        }#T_d3d37136_07e9_11eb_a733_0242ac130202row6_col3{\n",
       "            font-size:  130%;\n",
       "            font-family:  times;\n",
       "            text-shadow:  slategray 2px 2px 2px;\n",
       "            background-color:  #606680;\n",
       "            color:  #f1f1f1;\n",
       "        }#T_d3d37136_07e9_11eb_a733_0242ac130202row6_col4{\n",
       "            font-size:  130%;\n",
       "            font-family:  times;\n",
       "            text-shadow:  slategray 2px 2px 2px;\n",
       "            background-color:  #484864;\n",
       "            color:  #f1f1f1;\n",
       "        }#T_d3d37136_07e9_11eb_a733_0242ac130202row7_col0{\n",
       "            font-size:  130%;\n",
       "            font-family:  times;\n",
       "            text-shadow:  slategray 2px 2px 2px;\n",
       "            background-color:  #c1d8d8;\n",
       "            color:  #000000;\n",
       "        }#T_d3d37136_07e9_11eb_a733_0242ac130202row7_col1{\n",
       "            font-size:  130%;\n",
       "            font-family:  times;\n",
       "            text-shadow:  slategray 2px 2px 2px;\n",
       "            background-color:  #edf4f4;\n",
       "            color:  #000000;\n",
       "        }#T_d3d37136_07e9_11eb_a733_0242ac130202row7_col3{\n",
       "            font-size:  130%;\n",
       "            font-family:  times;\n",
       "            text-shadow:  slategray 2px 2px 2px;\n",
       "            background-color:  #313144;\n",
       "            color:  #f1f1f1;\n",
       "        }#T_d3d37136_07e9_11eb_a733_0242ac130202row7_col4{\n",
       "            font-size:  130%;\n",
       "            font-family:  times;\n",
       "            text-shadow:  slategray 2px 2px 2px;\n",
       "            background-color:  #3f3f58;\n",
       "            color:  #f1f1f1;\n",
       "        }#T_d3d37136_07e9_11eb_a733_0242ac130202row7_col5{\n",
       "            font-size:  130%;\n",
       "            font-family:  times;\n",
       "            text-shadow:  slategray 2px 2px 2px;\n",
       "            background-color:  #899ea9;\n",
       "            color:  #000000;\n",
       "        }</style><table id=\"T_d3d37136_07e9_11eb_a733_0242ac130202\" ><thead>    <tr>        <th class=\"blank level0\" ></th>        <th class=\"col_heading level0 col0\" >&#x2654;</th>        <th class=\"col_heading level0 col1\" >&#x2655;</th>        <th class=\"col_heading level0 col2\" >&#x2656;</th>        <th class=\"col_heading level0 col3\" >&#x2657;</th>        <th class=\"col_heading level0 col4\" >&#x2658;</th>        <th class=\"col_heading level0 col5\" >&#x2659;</th>    </tr></thead><tbody>\n",
       "                <tr>\n",
       "                        <th id=\"T_d3d37136_07e9_11eb_a733_0242ac130202level0_row0\" class=\"row_heading level0 row0\" >a</th>\n",
       "                        <td id=\"T_d3d37136_07e9_11eb_a733_0242ac130202row0_col0\" class=\"data row0 col0\" >-0.203322</td>\n",
       "                        <td id=\"T_d3d37136_07e9_11eb_a733_0242ac130202row0_col1\" class=\"data row0 col1\" >-0.782953</td>\n",
       "                        <td id=\"T_d3d37136_07e9_11eb_a733_0242ac130202row0_col2\" class=\"data row0 col2\" >1.153745</td>\n",
       "                        <td id=\"T_d3d37136_07e9_11eb_a733_0242ac130202row0_col3\" class=\"data row0 col3\" >-0.965100</td>\n",
       "                        <td id=\"T_d3d37136_07e9_11eb_a733_0242ac130202row0_col4\" class=\"data row0 col4\" >-0.758764</td>\n",
       "                        <td id=\"T_d3d37136_07e9_11eb_a733_0242ac130202row0_col5\" class=\"data row0 col5\" >1.105564</td>\n",
       "            </tr>\n",
       "            <tr>\n",
       "                        <th id=\"T_d3d37136_07e9_11eb_a733_0242ac130202level0_row1\" class=\"row_heading level0 row1\" >b</th>\n",
       "                        <td id=\"T_d3d37136_07e9_11eb_a733_0242ac130202row1_col0\" class=\"data row1 col0\" >0.377511</td>\n",
       "                        <td id=\"T_d3d37136_07e9_11eb_a733_0242ac130202row1_col1\" class=\"data row1 col1\" >-0.783783</td>\n",
       "                        <td id=\"T_d3d37136_07e9_11eb_a733_0242ac130202row1_col2\" class=\"data row1 col2\" >-0.934877</td>\n",
       "                        <td id=\"T_d3d37136_07e9_11eb_a733_0242ac130202row1_col3\" class=\"data row1 col3\" >-1.276707</td>\n",
       "                        <td id=\"T_d3d37136_07e9_11eb_a733_0242ac130202row1_col4\" class=\"data row1 col4\" >0.648577</td>\n",
       "                        <td id=\"T_d3d37136_07e9_11eb_a733_0242ac130202row1_col5\" class=\"data row1 col5\" >-0.185856</td>\n",
       "            </tr>\n",
       "            <tr>\n",
       "                        <th id=\"T_d3d37136_07e9_11eb_a733_0242ac130202level0_row2\" class=\"row_heading level0 row2\" >c</th>\n",
       "                        <td id=\"T_d3d37136_07e9_11eb_a733_0242ac130202row2_col0\" class=\"data row2 col0\" >-1.420482</td>\n",
       "                        <td id=\"T_d3d37136_07e9_11eb_a733_0242ac130202row2_col1\" class=\"data row2 col1\" >-0.751611</td>\n",
       "                        <td id=\"T_d3d37136_07e9_11eb_a733_0242ac130202row2_col2\" class=\"data row2 col2\" >-0.336749</td>\n",
       "                        <td id=\"T_d3d37136_07e9_11eb_a733_0242ac130202row2_col3\" class=\"data row2 col3\" >-1.199754</td>\n",
       "                        <td id=\"T_d3d37136_07e9_11eb_a733_0242ac130202row2_col4\" class=\"data row2 col4\" >-0.334412</td>\n",
       "                        <td id=\"T_d3d37136_07e9_11eb_a733_0242ac130202row2_col5\" class=\"data row2 col5\" >-0.819451</td>\n",
       "            </tr>\n",
       "            <tr>\n",
       "                        <th id=\"T_d3d37136_07e9_11eb_a733_0242ac130202level0_row3\" class=\"row_heading level0 row3\" >d</th>\n",
       "                        <td id=\"T_d3d37136_07e9_11eb_a733_0242ac130202row3_col0\" class=\"data row3 col0\" >-2.744861</td>\n",
       "                        <td id=\"T_d3d37136_07e9_11eb_a733_0242ac130202row3_col1\" class=\"data row3 col1\" >-1.379443</td>\n",
       "                        <td id=\"T_d3d37136_07e9_11eb_a733_0242ac130202row3_col2\" class=\"data row3 col2\" >-0.416578</td>\n",
       "                        <td id=\"T_d3d37136_07e9_11eb_a733_0242ac130202row3_col3\" class=\"data row3 col3\" >-1.337250</td>\n",
       "                        <td id=\"T_d3d37136_07e9_11eb_a733_0242ac130202row3_col4\" class=\"data row3 col4\" >0.592604</td>\n",
       "                        <td id=\"T_d3d37136_07e9_11eb_a733_0242ac130202row3_col5\" class=\"data row3 col5\" >0.666141</td>\n",
       "            </tr>\n",
       "            <tr>\n",
       "                        <th id=\"T_d3d37136_07e9_11eb_a733_0242ac130202level0_row4\" class=\"row_heading level0 row4\" >e</th>\n",
       "                        <td id=\"T_d3d37136_07e9_11eb_a733_0242ac130202row4_col0\" class=\"data row4 col0\" >-0.063862</td>\n",
       "                        <td id=\"T_d3d37136_07e9_11eb_a733_0242ac130202row4_col1\" class=\"data row4 col1\" >-0.332502</td>\n",
       "                        <td id=\"T_d3d37136_07e9_11eb_a733_0242ac130202row4_col2\" class=\"data row4 col2\" >0.185507</td>\n",
       "                        <td id=\"T_d3d37136_07e9_11eb_a733_0242ac130202row4_col3\" class=\"data row4 col3\" >0.186158</td>\n",
       "                        <td id=\"T_d3d37136_07e9_11eb_a733_0242ac130202row4_col4\" class=\"data row4 col4\" >2.285558</td>\n",
       "                        <td id=\"T_d3d37136_07e9_11eb_a733_0242ac130202row4_col5\" class=\"data row4 col5\" >1.031865</td>\n",
       "            </tr>\n",
       "            <tr>\n",
       "                        <th id=\"T_d3d37136_07e9_11eb_a733_0242ac130202level0_row5\" class=\"row_heading level0 row5\" >f</th>\n",
       "                        <td id=\"T_d3d37136_07e9_11eb_a733_0242ac130202row5_col0\" class=\"data row5 col0\" >-0.332596</td>\n",
       "                        <td id=\"T_d3d37136_07e9_11eb_a733_0242ac130202row5_col1\" class=\"data row5 col1\" >-1.112655</td>\n",
       "                        <td id=\"T_d3d37136_07e9_11eb_a733_0242ac130202row5_col2\" class=\"data row5 col2\" >-0.550189</td>\n",
       "                        <td id=\"T_d3d37136_07e9_11eb_a733_0242ac130202row5_col3\" class=\"data row5 col3\" >1.545171</td>\n",
       "                        <td id=\"T_d3d37136_07e9_11eb_a733_0242ac130202row5_col4\" class=\"data row5 col4\" >1.579806</td>\n",
       "                        <td id=\"T_d3d37136_07e9_11eb_a733_0242ac130202row5_col5\" class=\"data row5 col5\" >-0.312577</td>\n",
       "            </tr>\n",
       "            <tr>\n",
       "                        <th id=\"T_d3d37136_07e9_11eb_a733_0242ac130202level0_row6\" class=\"row_heading level0 row6\" >g</th>\n",
       "                        <td id=\"T_d3d37136_07e9_11eb_a733_0242ac130202row6_col0\" class=\"data row6 col0\" >-0.107763</td>\n",
       "                        <td id=\"T_d3d37136_07e9_11eb_a733_0242ac130202row6_col1\" class=\"data row6 col1\" >0.755268</td>\n",
       "                        <td id=\"T_d3d37136_07e9_11eb_a733_0242ac130202row6_col2\" class=\"data row6 col2\" >-0.219785</td>\n",
       "                        <td id=\"T_d3d37136_07e9_11eb_a733_0242ac130202row6_col3\" class=\"data row6 col3\" >-0.096733</td>\n",
       "                        <td id=\"T_d3d37136_07e9_11eb_a733_0242ac130202row6_col4\" class=\"data row6 col4\" >0.228255</td>\n",
       "                        <td id=\"T_d3d37136_07e9_11eb_a733_0242ac130202row6_col5\" class=\"data row6 col5\" >1.235621</td>\n",
       "            </tr>\n",
       "            <tr>\n",
       "                        <th id=\"T_d3d37136_07e9_11eb_a733_0242ac130202level0_row7\" class=\"row_heading level0 row7\" >h</th>\n",
       "                        <td id=\"T_d3d37136_07e9_11eb_a733_0242ac130202row7_col0\" class=\"data row7 col0\" >-0.179747</td>\n",
       "                        <td id=\"T_d3d37136_07e9_11eb_a733_0242ac130202row7_col1\" class=\"data row7 col1\" >0.644799</td>\n",
       "                        <td id=\"T_d3d37136_07e9_11eb_a733_0242ac130202row7_col2\" class=\"data row7 col2\" >-1.382417</td>\n",
       "                        <td id=\"T_d3d37136_07e9_11eb_a733_0242ac130202row7_col3\" class=\"data row7 col3\" >-0.705813</td>\n",
       "                        <td id=\"T_d3d37136_07e9_11eb_a733_0242ac130202row7_col4\" class=\"data row7 col4\" >0.107318</td>\n",
       "                        <td id=\"T_d3d37136_07e9_11eb_a733_0242ac130202row7_col5\" class=\"data row7 col5\" >0.445647</td>\n",
       "            </tr>\n",
       "    </tbody></table>"
      ],
      "text/plain": [
       "<pandas.io.formats.style.Styler at 0x7f8e36189750>"
      ]
     },
     "metadata": {},
     "output_type": "display_data"
    },
    {
     "data": {
      "text/plain": [
       "<Figure size 432x288 with 0 Axes>"
      ]
     },
     "metadata": {},
     "output_type": "display_data"
    }
   ],
   "source": [
    "%run ../input/python-recipes/display_dataframe.py\n",
    "display_dataframe_example();"
   ]
  }
 ],
 "metadata": {
  "kernelspec": {
   "display_name": "Python 3",
   "language": "python",
   "name": "python3"
  },
  "language_info": {
   "codemirror_mode": {
    "name": "ipython",
    "version": 3
   },
   "file_extension": ".py",
   "mimetype": "text/x-python",
   "name": "python",
   "nbconvert_exporter": "python",
   "pygments_lexer": "ipython3",
   "version": "3.7.6"
  },
  "papermill": {
   "duration": 7.246915,
   "end_time": "2020-10-06T15:37:22.901531",
   "environment_variables": {},
   "exception": null,
   "input_path": "__notebook__.ipynb",
   "output_path": "__notebook__.ipynb",
   "parameters": {},
   "start_time": "2020-10-06T15:37:15.654616",
   "version": "2.1.0"
  }
 },
 "nbformat": 4,
 "nbformat_minor": 4
}
